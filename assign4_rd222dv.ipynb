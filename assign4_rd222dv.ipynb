{
 "cells": [
  {
   "cell_type": "code",
   "execution_count": 42,
   "metadata": {},
   "outputs": [],
   "source": [
    "import sys\n",
    "import pandas as pd\n",
    "import numpy as np\n",
    "import matplotlib\n",
    "import matplotlib.pyplot as plt\n",
    "import seaborn as sns\n",
    "import statsmodels.api as sm\n",
    "import statsmodels.formula.api as smf\n",
    "from statsmodels.formula.api import ols\n",
    "from statsmodels.stats.anova import anova_lm\n",
    "from scipy.stats import pearsonr\n",
    "import itertools\n",
    "np.warnings.filterwarnings('ignore')\n",
    "from sklearn.metrics import confusion_matrix, accuracy_score, classification_report\n",
    "from sklearn.discriminant_analysis import LinearDiscriminantAnalysis, QuadraticDiscriminantAnalysis\n",
    "from sklearn import neighbors\n",
    "from sklearn.preprocessing import StandardScaler"
   ]
  },
  {
   "cell_type": "code",
   "execution_count": 43,
   "metadata": {},
   "outputs": [],
   "source": [
    "df = pd.read_csv('ISLR/data/Smarket.csv',index_col=0, parse_dates=True)"
   ]
  },
  {
   "cell_type": "code",
   "execution_count": 44,
   "metadata": {},
   "outputs": [
    {
     "name": "stdout",
     "output_type": "stream",
     "text": [
      "9\n",
      "1. 'Year' 2. 'Lag1' 3. 'Lag2' 4. 'Lag3' 5. 'Lag4' 6. 'Lag5' 7. 'Volume' 8. 'Today' 9. 'Direction' "
     ]
    }
   ],
   "source": [
    "r, c = df.shape\n",
    "print(c)\n",
    "for a, b in enumerate(df, 1):\n",
    "    list = \"\".join('{}. \\'{}\\''.format(a, b))\n",
    "    print (list, end=\" \")"
   ]
  },
  {
   "cell_type": "code",
   "execution_count": 14,
   "metadata": {},
   "outputs": [
    {
     "data": {
      "text/html": [
       "<div>\n",
       "<style scoped>\n",
       "    .dataframe tbody tr th:only-of-type {\n",
       "        vertical-align: middle;\n",
       "    }\n",
       "\n",
       "    .dataframe tbody tr th {\n",
       "        vertical-align: top;\n",
       "    }\n",
       "\n",
       "    .dataframe thead th {\n",
       "        text-align: right;\n",
       "    }\n",
       "</style>\n",
       "<table border=\"1\" class=\"dataframe\">\n",
       "  <thead>\n",
       "    <tr style=\"text-align: right;\">\n",
       "      <th></th>\n",
       "      <th>Year</th>\n",
       "      <th>Lag1</th>\n",
       "      <th>Lag2</th>\n",
       "      <th>Lag3</th>\n",
       "      <th>Lag4</th>\n",
       "      <th>Lag5</th>\n",
       "      <th>Volume</th>\n",
       "      <th>Today</th>\n",
       "    </tr>\n",
       "  </thead>\n",
       "  <tbody>\n",
       "    <tr>\n",
       "      <th>count</th>\n",
       "      <td>1250.000000</td>\n",
       "      <td>1250.000000</td>\n",
       "      <td>1250.000000</td>\n",
       "      <td>1250.000000</td>\n",
       "      <td>1250.000000</td>\n",
       "      <td>1250.00000</td>\n",
       "      <td>1250.000000</td>\n",
       "      <td>1250.000000</td>\n",
       "    </tr>\n",
       "    <tr>\n",
       "      <th>mean</th>\n",
       "      <td>2003.016000</td>\n",
       "      <td>0.003834</td>\n",
       "      <td>0.003919</td>\n",
       "      <td>0.001716</td>\n",
       "      <td>0.001636</td>\n",
       "      <td>0.00561</td>\n",
       "      <td>1.478305</td>\n",
       "      <td>0.003138</td>\n",
       "    </tr>\n",
       "    <tr>\n",
       "      <th>std</th>\n",
       "      <td>1.409018</td>\n",
       "      <td>1.136299</td>\n",
       "      <td>1.136280</td>\n",
       "      <td>1.138703</td>\n",
       "      <td>1.138774</td>\n",
       "      <td>1.14755</td>\n",
       "      <td>0.360357</td>\n",
       "      <td>1.136334</td>\n",
       "    </tr>\n",
       "    <tr>\n",
       "      <th>min</th>\n",
       "      <td>2001.000000</td>\n",
       "      <td>-4.922000</td>\n",
       "      <td>-4.922000</td>\n",
       "      <td>-4.922000</td>\n",
       "      <td>-4.922000</td>\n",
       "      <td>-4.92200</td>\n",
       "      <td>0.356070</td>\n",
       "      <td>-4.922000</td>\n",
       "    </tr>\n",
       "    <tr>\n",
       "      <th>25%</th>\n",
       "      <td>2002.000000</td>\n",
       "      <td>-0.639500</td>\n",
       "      <td>-0.639500</td>\n",
       "      <td>-0.640000</td>\n",
       "      <td>-0.640000</td>\n",
       "      <td>-0.64000</td>\n",
       "      <td>1.257400</td>\n",
       "      <td>-0.639500</td>\n",
       "    </tr>\n",
       "    <tr>\n",
       "      <th>50%</th>\n",
       "      <td>2003.000000</td>\n",
       "      <td>0.039000</td>\n",
       "      <td>0.039000</td>\n",
       "      <td>0.038500</td>\n",
       "      <td>0.038500</td>\n",
       "      <td>0.03850</td>\n",
       "      <td>1.422950</td>\n",
       "      <td>0.038500</td>\n",
       "    </tr>\n",
       "    <tr>\n",
       "      <th>75%</th>\n",
       "      <td>2004.000000</td>\n",
       "      <td>0.596750</td>\n",
       "      <td>0.596750</td>\n",
       "      <td>0.596750</td>\n",
       "      <td>0.596750</td>\n",
       "      <td>0.59700</td>\n",
       "      <td>1.641675</td>\n",
       "      <td>0.596750</td>\n",
       "    </tr>\n",
       "    <tr>\n",
       "      <th>max</th>\n",
       "      <td>2005.000000</td>\n",
       "      <td>5.733000</td>\n",
       "      <td>5.733000</td>\n",
       "      <td>5.733000</td>\n",
       "      <td>5.733000</td>\n",
       "      <td>5.73300</td>\n",
       "      <td>3.152470</td>\n",
       "      <td>5.733000</td>\n",
       "    </tr>\n",
       "  </tbody>\n",
       "</table>\n",
       "</div>"
      ],
      "text/plain": [
       "              Year         Lag1         Lag2         Lag3         Lag4  \\\n",
       "count  1250.000000  1250.000000  1250.000000  1250.000000  1250.000000   \n",
       "mean   2003.016000     0.003834     0.003919     0.001716     0.001636   \n",
       "std       1.409018     1.136299     1.136280     1.138703     1.138774   \n",
       "min    2001.000000    -4.922000    -4.922000    -4.922000    -4.922000   \n",
       "25%    2002.000000    -0.639500    -0.639500    -0.640000    -0.640000   \n",
       "50%    2003.000000     0.039000     0.039000     0.038500     0.038500   \n",
       "75%    2004.000000     0.596750     0.596750     0.596750     0.596750   \n",
       "max    2005.000000     5.733000     5.733000     5.733000     5.733000   \n",
       "\n",
       "             Lag5       Volume        Today  \n",
       "count  1250.00000  1250.000000  1250.000000  \n",
       "mean      0.00561     1.478305     0.003138  \n",
       "std       1.14755     0.360357     1.136334  \n",
       "min      -4.92200     0.356070    -4.922000  \n",
       "25%      -0.64000     1.257400    -0.639500  \n",
       "50%       0.03850     1.422950     0.038500  \n",
       "75%       0.59700     1.641675     0.596750  \n",
       "max       5.73300     3.152470     5.733000  "
      ]
     },
     "execution_count": 14,
     "metadata": {},
     "output_type": "execute_result"
    }
   ],
   "source": [
    "df.describe()"
   ]
  },
  {
   "cell_type": "code",
   "execution_count": 15,
   "metadata": {},
   "outputs": [
    {
     "name": "stdout",
     "output_type": "stream",
     "text": [
      "Up      648\n",
      "Down    602\n",
      "Name: Direction, dtype: int64\n"
     ]
    }
   ],
   "source": [
    "print(df['Direction'].value_counts())"
   ]
  },
  {
   "cell_type": "code",
   "execution_count": 16,
   "metadata": {},
   "outputs": [
    {
     "data": {
      "text/plain": [
       "1250"
      ]
     },
     "execution_count": 16,
     "metadata": {},
     "output_type": "execute_result"
    }
   ],
   "source": [
    "len(df.index)"
   ]
  },
  {
   "cell_type": "code",
   "execution_count": 17,
   "metadata": {},
   "outputs": [
    {
     "data": {
      "text/html": [
       "<div>\n",
       "<style scoped>\n",
       "    .dataframe tbody tr th:only-of-type {\n",
       "        vertical-align: middle;\n",
       "    }\n",
       "\n",
       "    .dataframe tbody tr th {\n",
       "        vertical-align: top;\n",
       "    }\n",
       "\n",
       "    .dataframe thead th {\n",
       "        text-align: right;\n",
       "    }\n",
       "</style>\n",
       "<table border=\"1\" class=\"dataframe\">\n",
       "  <thead>\n",
       "    <tr style=\"text-align: right;\">\n",
       "      <th></th>\n",
       "      <th>Year</th>\n",
       "      <th>Lag1</th>\n",
       "      <th>Lag2</th>\n",
       "      <th>Lag3</th>\n",
       "      <th>Lag4</th>\n",
       "      <th>Lag5</th>\n",
       "      <th>Volume</th>\n",
       "      <th>Today</th>\n",
       "      <th>Direction</th>\n",
       "    </tr>\n",
       "  </thead>\n",
       "  <tbody>\n",
       "    <tr>\n",
       "      <th>1</th>\n",
       "      <td>2001</td>\n",
       "      <td>0.381</td>\n",
       "      <td>-0.192</td>\n",
       "      <td>-2.624</td>\n",
       "      <td>-1.055</td>\n",
       "      <td>5.010</td>\n",
       "      <td>1.19130</td>\n",
       "      <td>0.959</td>\n",
       "      <td>Up</td>\n",
       "    </tr>\n",
       "    <tr>\n",
       "      <th>2</th>\n",
       "      <td>2001</td>\n",
       "      <td>0.959</td>\n",
       "      <td>0.381</td>\n",
       "      <td>-0.192</td>\n",
       "      <td>-2.624</td>\n",
       "      <td>-1.055</td>\n",
       "      <td>1.29650</td>\n",
       "      <td>1.032</td>\n",
       "      <td>Up</td>\n",
       "    </tr>\n",
       "    <tr>\n",
       "      <th>3</th>\n",
       "      <td>2001</td>\n",
       "      <td>1.032</td>\n",
       "      <td>0.959</td>\n",
       "      <td>0.381</td>\n",
       "      <td>-0.192</td>\n",
       "      <td>-2.624</td>\n",
       "      <td>1.41120</td>\n",
       "      <td>-0.623</td>\n",
       "      <td>Down</td>\n",
       "    </tr>\n",
       "    <tr>\n",
       "      <th>4</th>\n",
       "      <td>2001</td>\n",
       "      <td>-0.623</td>\n",
       "      <td>1.032</td>\n",
       "      <td>0.959</td>\n",
       "      <td>0.381</td>\n",
       "      <td>-0.192</td>\n",
       "      <td>1.27600</td>\n",
       "      <td>0.614</td>\n",
       "      <td>Up</td>\n",
       "    </tr>\n",
       "    <tr>\n",
       "      <th>5</th>\n",
       "      <td>2001</td>\n",
       "      <td>0.614</td>\n",
       "      <td>-0.623</td>\n",
       "      <td>1.032</td>\n",
       "      <td>0.959</td>\n",
       "      <td>0.381</td>\n",
       "      <td>1.20570</td>\n",
       "      <td>0.213</td>\n",
       "      <td>Up</td>\n",
       "    </tr>\n",
       "    <tr>\n",
       "      <th>...</th>\n",
       "      <td>...</td>\n",
       "      <td>...</td>\n",
       "      <td>...</td>\n",
       "      <td>...</td>\n",
       "      <td>...</td>\n",
       "      <td>...</td>\n",
       "      <td>...</td>\n",
       "      <td>...</td>\n",
       "      <td>...</td>\n",
       "    </tr>\n",
       "    <tr>\n",
       "      <th>1246</th>\n",
       "      <td>2005</td>\n",
       "      <td>0.422</td>\n",
       "      <td>0.252</td>\n",
       "      <td>-0.024</td>\n",
       "      <td>-0.584</td>\n",
       "      <td>-0.285</td>\n",
       "      <td>1.88850</td>\n",
       "      <td>0.043</td>\n",
       "      <td>Up</td>\n",
       "    </tr>\n",
       "    <tr>\n",
       "      <th>1247</th>\n",
       "      <td>2005</td>\n",
       "      <td>0.043</td>\n",
       "      <td>0.422</td>\n",
       "      <td>0.252</td>\n",
       "      <td>-0.024</td>\n",
       "      <td>-0.584</td>\n",
       "      <td>1.28581</td>\n",
       "      <td>-0.955</td>\n",
       "      <td>Down</td>\n",
       "    </tr>\n",
       "    <tr>\n",
       "      <th>1248</th>\n",
       "      <td>2005</td>\n",
       "      <td>-0.955</td>\n",
       "      <td>0.043</td>\n",
       "      <td>0.422</td>\n",
       "      <td>0.252</td>\n",
       "      <td>-0.024</td>\n",
       "      <td>1.54047</td>\n",
       "      <td>0.130</td>\n",
       "      <td>Up</td>\n",
       "    </tr>\n",
       "    <tr>\n",
       "      <th>1249</th>\n",
       "      <td>2005</td>\n",
       "      <td>0.130</td>\n",
       "      <td>-0.955</td>\n",
       "      <td>0.043</td>\n",
       "      <td>0.422</td>\n",
       "      <td>0.252</td>\n",
       "      <td>1.42236</td>\n",
       "      <td>-0.298</td>\n",
       "      <td>Down</td>\n",
       "    </tr>\n",
       "    <tr>\n",
       "      <th>1250</th>\n",
       "      <td>2005</td>\n",
       "      <td>-0.298</td>\n",
       "      <td>0.130</td>\n",
       "      <td>-0.955</td>\n",
       "      <td>0.043</td>\n",
       "      <td>0.422</td>\n",
       "      <td>1.38254</td>\n",
       "      <td>-0.489</td>\n",
       "      <td>Down</td>\n",
       "    </tr>\n",
       "  </tbody>\n",
       "</table>\n",
       "<p>1250 rows × 9 columns</p>\n",
       "</div>"
      ],
      "text/plain": [
       "      Year   Lag1   Lag2   Lag3   Lag4   Lag5   Volume  Today Direction\n",
       "1     2001  0.381 -0.192 -2.624 -1.055  5.010  1.19130  0.959        Up\n",
       "2     2001  0.959  0.381 -0.192 -2.624 -1.055  1.29650  1.032        Up\n",
       "3     2001  1.032  0.959  0.381 -0.192 -2.624  1.41120 -0.623      Down\n",
       "4     2001 -0.623  1.032  0.959  0.381 -0.192  1.27600  0.614        Up\n",
       "5     2001  0.614 -0.623  1.032  0.959  0.381  1.20570  0.213        Up\n",
       "...    ...    ...    ...    ...    ...    ...      ...    ...       ...\n",
       "1246  2005  0.422  0.252 -0.024 -0.584 -0.285  1.88850  0.043        Up\n",
       "1247  2005  0.043  0.422  0.252 -0.024 -0.584  1.28581 -0.955      Down\n",
       "1248  2005 -0.955  0.043  0.422  0.252 -0.024  1.54047  0.130        Up\n",
       "1249  2005  0.130 -0.955  0.043  0.422  0.252  1.42236 -0.298      Down\n",
       "1250  2005 -0.298  0.130 -0.955  0.043  0.422  1.38254 -0.489      Down\n",
       "\n",
       "[1250 rows x 9 columns]"
      ]
     },
     "execution_count": 17,
     "metadata": {},
     "output_type": "execute_result"
    }
   ],
   "source": [
    "df"
   ]
  },
  {
   "cell_type": "code",
   "execution_count": 18,
   "metadata": {},
   "outputs": [
    {
     "data": {
      "text/html": [
       "<div>\n",
       "<style scoped>\n",
       "    .dataframe tbody tr th:only-of-type {\n",
       "        vertical-align: middle;\n",
       "    }\n",
       "\n",
       "    .dataframe tbody tr th {\n",
       "        vertical-align: top;\n",
       "    }\n",
       "\n",
       "    .dataframe thead th {\n",
       "        text-align: right;\n",
       "    }\n",
       "</style>\n",
       "<table border=\"1\" class=\"dataframe\">\n",
       "  <thead>\n",
       "    <tr style=\"text-align: right;\">\n",
       "      <th></th>\n",
       "      <th>Lag1</th>\n",
       "      <th>Year</th>\n",
       "      <th>Volume</th>\n",
       "      <th>Lag2</th>\n",
       "      <th>Lag5</th>\n",
       "      <th>Lag4</th>\n",
       "      <th>Lag3</th>\n",
       "      <th>Today</th>\n",
       "    </tr>\n",
       "  </thead>\n",
       "  <tbody>\n",
       "    <tr>\n",
       "      <th>Lag1</th>\n",
       "      <td>1.000</td>\n",
       "      <td>0.030</td>\n",
       "      <td>0.041</td>\n",
       "      <td>-0.026</td>\n",
       "      <td>-0.006</td>\n",
       "      <td>-0.003</td>\n",
       "      <td>-0.011</td>\n",
       "      <td>-0.026</td>\n",
       "    </tr>\n",
       "    <tr>\n",
       "      <th>Year</th>\n",
       "      <td>0.030</td>\n",
       "      <td>1.000</td>\n",
       "      <td>0.539</td>\n",
       "      <td>0.031</td>\n",
       "      <td>0.030</td>\n",
       "      <td>0.036</td>\n",
       "      <td>0.033</td>\n",
       "      <td>0.030</td>\n",
       "    </tr>\n",
       "    <tr>\n",
       "      <th>Volume</th>\n",
       "      <td>0.041</td>\n",
       "      <td>0.539</td>\n",
       "      <td>1.000</td>\n",
       "      <td>-0.043</td>\n",
       "      <td>-0.022</td>\n",
       "      <td>-0.048</td>\n",
       "      <td>-0.042</td>\n",
       "      <td>0.015</td>\n",
       "    </tr>\n",
       "    <tr>\n",
       "      <th>Lag2</th>\n",
       "      <td>-0.026</td>\n",
       "      <td>0.031</td>\n",
       "      <td>-0.043</td>\n",
       "      <td>1.000</td>\n",
       "      <td>-0.004</td>\n",
       "      <td>-0.011</td>\n",
       "      <td>-0.026</td>\n",
       "      <td>-0.010</td>\n",
       "    </tr>\n",
       "    <tr>\n",
       "      <th>Lag5</th>\n",
       "      <td>-0.006</td>\n",
       "      <td>0.030</td>\n",
       "      <td>-0.022</td>\n",
       "      <td>-0.004</td>\n",
       "      <td>1.000</td>\n",
       "      <td>-0.027</td>\n",
       "      <td>-0.019</td>\n",
       "      <td>-0.035</td>\n",
       "    </tr>\n",
       "    <tr>\n",
       "      <th>Lag4</th>\n",
       "      <td>-0.003</td>\n",
       "      <td>0.036</td>\n",
       "      <td>-0.048</td>\n",
       "      <td>-0.011</td>\n",
       "      <td>-0.027</td>\n",
       "      <td>1.000</td>\n",
       "      <td>-0.024</td>\n",
       "      <td>-0.007</td>\n",
       "    </tr>\n",
       "    <tr>\n",
       "      <th>Lag3</th>\n",
       "      <td>-0.011</td>\n",
       "      <td>0.033</td>\n",
       "      <td>-0.042</td>\n",
       "      <td>-0.026</td>\n",
       "      <td>-0.019</td>\n",
       "      <td>-0.024</td>\n",
       "      <td>1.000</td>\n",
       "      <td>-0.002</td>\n",
       "    </tr>\n",
       "    <tr>\n",
       "      <th>Today</th>\n",
       "      <td>-0.026</td>\n",
       "      <td>0.030</td>\n",
       "      <td>0.015</td>\n",
       "      <td>-0.010</td>\n",
       "      <td>-0.035</td>\n",
       "      <td>-0.007</td>\n",
       "      <td>-0.002</td>\n",
       "      <td>1.000</td>\n",
       "    </tr>\n",
       "  </tbody>\n",
       "</table>\n",
       "</div>"
      ],
      "text/plain": [
       "         Lag1   Year  Volume   Lag2   Lag5   Lag4   Lag3  Today\n",
       "Lag1    1.000  0.030   0.041 -0.026 -0.006 -0.003 -0.011 -0.026\n",
       "Year    0.030  1.000   0.539  0.031  0.030  0.036  0.033  0.030\n",
       "Volume  0.041  0.539   1.000 -0.043 -0.022 -0.048 -0.042  0.015\n",
       "Lag2   -0.026  0.031  -0.043  1.000 -0.004 -0.011 -0.026 -0.010\n",
       "Lag5   -0.006  0.030  -0.022 -0.004  1.000 -0.027 -0.019 -0.035\n",
       "Lag4   -0.003  0.036  -0.048 -0.011 -0.027  1.000 -0.024 -0.007\n",
       "Lag3   -0.011  0.033  -0.042 -0.026 -0.019 -0.024  1.000 -0.002\n",
       "Today  -0.026  0.030   0.015 -0.010 -0.035 -0.007 -0.002  1.000"
      ]
     },
     "execution_count": 18,
     "metadata": {},
     "output_type": "execute_result"
    }
   ],
   "source": [
    "df[['Lag1', 'Year', 'Volume', 'Lag2', 'Lag5', 'Lag4', 'Lag3', 'Today']].corr().round(3)"
   ]
  },
  {
   "cell_type": "code",
   "execution_count": 19,
   "metadata": {},
   "outputs": [
    {
     "data": {
      "text/html": [
       "<div>\n",
       "<style scoped>\n",
       "    .dataframe tbody tr th:only-of-type {\n",
       "        vertical-align: middle;\n",
       "    }\n",
       "\n",
       "    .dataframe tbody tr th {\n",
       "        vertical-align: top;\n",
       "    }\n",
       "\n",
       "    .dataframe thead th {\n",
       "        text-align: right;\n",
       "    }\n",
       "</style>\n",
       "<table border=\"1\" class=\"dataframe\">\n",
       "  <thead>\n",
       "    <tr style=\"text-align: right;\">\n",
       "      <th></th>\n",
       "      <th>Lag1</th>\n",
       "      <th>Year</th>\n",
       "      <th>Volume</th>\n",
       "      <th>Lag2</th>\n",
       "      <th>Lag5</th>\n",
       "      <th>Lag4</th>\n",
       "      <th>Lag3</th>\n",
       "      <th>Today</th>\n",
       "    </tr>\n",
       "  </thead>\n",
       "  <tbody>\n",
       "    <tr>\n",
       "      <th>Lag1</th>\n",
       "      <td>0</td>\n",
       "      <td>0.2941</td>\n",
       "      <td>0.1483</td>\n",
       "      <td>0.353</td>\n",
       "      <td>0.8411</td>\n",
       "      <td>0.916</td>\n",
       "      <td>0.7028</td>\n",
       "      <td>0.3555</td>\n",
       "    </tr>\n",
       "    <tr>\n",
       "      <th>Year</th>\n",
       "      <td>0.2941</td>\n",
       "      <td>0</td>\n",
       "      <td>0</td>\n",
       "      <td>0.2797</td>\n",
       "      <td>0.2926</td>\n",
       "      <td>0.2073</td>\n",
       "      <td>0.2409</td>\n",
       "      <td>0.2877</td>\n",
       "    </tr>\n",
       "    <tr>\n",
       "      <th>Volume</th>\n",
       "      <td>0.1483</td>\n",
       "      <td>0</td>\n",
       "      <td>0</td>\n",
       "      <td>0.1253</td>\n",
       "      <td>0.437</td>\n",
       "      <td>0.0871</td>\n",
       "      <td>0.1394</td>\n",
       "      <td>0.6063</td>\n",
       "    </tr>\n",
       "    <tr>\n",
       "      <th>Lag2</th>\n",
       "      <td>0.353</td>\n",
       "      <td>0.2797</td>\n",
       "      <td>0.1253</td>\n",
       "      <td>0</td>\n",
       "      <td>0.9</td>\n",
       "      <td>0.7015</td>\n",
       "      <td>0.3603</td>\n",
       "      <td>0.7173</td>\n",
       "    </tr>\n",
       "    <tr>\n",
       "      <th>Lag5</th>\n",
       "      <td>0.8411</td>\n",
       "      <td>0.2926</td>\n",
       "      <td>0.437</td>\n",
       "      <td>0.9</td>\n",
       "      <td>0</td>\n",
       "      <td>0.3387</td>\n",
       "      <td>0.5065</td>\n",
       "      <td>0.2181</td>\n",
       "    </tr>\n",
       "    <tr>\n",
       "      <th>Lag4</th>\n",
       "      <td>0.916</td>\n",
       "      <td>0.2073</td>\n",
       "      <td>0.0871</td>\n",
       "      <td>0.7015</td>\n",
       "      <td>0.3387</td>\n",
       "      <td>0</td>\n",
       "      <td>0.3955</td>\n",
       "      <td>0.8075</td>\n",
       "    </tr>\n",
       "    <tr>\n",
       "      <th>Lag3</th>\n",
       "      <td>0.7028</td>\n",
       "      <td>0.2409</td>\n",
       "      <td>0.1394</td>\n",
       "      <td>0.3603</td>\n",
       "      <td>0.5065</td>\n",
       "      <td>0.3955</td>\n",
       "      <td>0</td>\n",
       "      <td>0.9311</td>\n",
       "    </tr>\n",
       "    <tr>\n",
       "      <th>Today</th>\n",
       "      <td>0.3555</td>\n",
       "      <td>0.2877</td>\n",
       "      <td>0.6063</td>\n",
       "      <td>0.7173</td>\n",
       "      <td>0.2181</td>\n",
       "      <td>0.8075</td>\n",
       "      <td>0.9311</td>\n",
       "      <td>0</td>\n",
       "    </tr>\n",
       "  </tbody>\n",
       "</table>\n",
       "</div>"
      ],
      "text/plain": [
       "          Lag1    Year  Volume    Lag2    Lag5    Lag4    Lag3   Today\n",
       "Lag1         0  0.2941  0.1483   0.353  0.8411   0.916  0.7028  0.3555\n",
       "Year    0.2941       0       0  0.2797  0.2926  0.2073  0.2409  0.2877\n",
       "Volume  0.1483       0       0  0.1253   0.437  0.0871  0.1394  0.6063\n",
       "Lag2     0.353  0.2797  0.1253       0     0.9  0.7015  0.3603  0.7173\n",
       "Lag5    0.8411  0.2926   0.437     0.9       0  0.3387  0.5065  0.2181\n",
       "Lag4     0.916  0.2073  0.0871  0.7015  0.3387       0  0.3955  0.8075\n",
       "Lag3    0.7028  0.2409  0.1394  0.3603  0.5065  0.3955       0  0.9311\n",
       "Today   0.3555  0.2877  0.6063  0.7173  0.2181  0.8075  0.9311       0"
      ]
     },
     "execution_count": 19,
     "metadata": {},
     "output_type": "execute_result"
    }
   ],
   "source": [
    "def calc_pvalues(df):\n",
    "    df = df.dropna()._get_numeric_data()\n",
    "    dfcol = pd.DataFrame(columns=df.columns)\n",
    "    pval = dfcol.transpose().join(dfcol, how='outer')\n",
    "    for r in df.columns:\n",
    "        for c in df.columns:\n",
    "            pval[r][c] = round(pearsonr(df[r], df[c])[1], 4)\n",
    "    return pval\n",
    "\n",
    "calc_pvalues(df[['Lag1', 'Year', 'Volume', 'Lag2', 'Lag5', 'Lag4', 'Lag3', 'Today']])"
   ]
  },
  {
   "cell_type": "code",
   "execution_count": 20,
   "metadata": {},
   "outputs": [
    {
     "data": {
      "text/html": [
       "<style  type=\"text/css\" >\n",
       "    #T_df4c9a90_5e38_11ea_af85_8623b1190f1crow0_col0 {\n",
       "            background-color:  #b40426;\n",
       "            color:  #f1f1f1;\n",
       "        }    #T_df4c9a90_5e38_11ea_af85_8623b1190f1crow0_col1 {\n",
       "            background-color:  #3b4cc0;\n",
       "            color:  #f1f1f1;\n",
       "        }    #T_df4c9a90_5e38_11ea_af85_8623b1190f1crow0_col2 {\n",
       "            background-color:  #5470de;\n",
       "            color:  #000000;\n",
       "        }    #T_df4c9a90_5e38_11ea_af85_8623b1190f1crow0_col3 {\n",
       "            background-color:  #3d50c3;\n",
       "            color:  #f1f1f1;\n",
       "        }    #T_df4c9a90_5e38_11ea_af85_8623b1190f1crow0_col4 {\n",
       "            background-color:  #3f53c6;\n",
       "            color:  #f1f1f1;\n",
       "        }    #T_df4c9a90_5e38_11ea_af85_8623b1190f1crow0_col5 {\n",
       "            background-color:  #4961d2;\n",
       "            color:  #f1f1f1;\n",
       "        }    #T_df4c9a90_5e38_11ea_af85_8623b1190f1crow0_col6 {\n",
       "            background-color:  #4358cb;\n",
       "            color:  #f1f1f1;\n",
       "        }    #T_df4c9a90_5e38_11ea_af85_8623b1190f1crow0_col7 {\n",
       "            background-color:  #3b4cc0;\n",
       "            color:  #f1f1f1;\n",
       "        }    #T_df4c9a90_5e38_11ea_af85_8623b1190f1crow1_col0 {\n",
       "            background-color:  #4b64d5;\n",
       "            color:  #f1f1f1;\n",
       "        }    #T_df4c9a90_5e38_11ea_af85_8623b1190f1crow1_col1 {\n",
       "            background-color:  #b40426;\n",
       "            color:  #f1f1f1;\n",
       "        }    #T_df4c9a90_5e38_11ea_af85_8623b1190f1crow1_col2 {\n",
       "            background-color:  #ebd3c6;\n",
       "            color:  #000000;\n",
       "        }    #T_df4c9a90_5e38_11ea_af85_8623b1190f1crow1_col3 {\n",
       "            background-color:  #4f69d9;\n",
       "            color:  #000000;\n",
       "        }    #T_df4c9a90_5e38_11ea_af85_8623b1190f1crow1_col4 {\n",
       "            background-color:  #4b64d5;\n",
       "            color:  #f1f1f1;\n",
       "        }    #T_df4c9a90_5e38_11ea_af85_8623b1190f1crow1_col5 {\n",
       "            background-color:  #5470de;\n",
       "            color:  #000000;\n",
       "        }    #T_df4c9a90_5e38_11ea_af85_8623b1190f1crow1_col6 {\n",
       "            background-color:  #4f69d9;\n",
       "            color:  #000000;\n",
       "        }    #T_df4c9a90_5e38_11ea_af85_8623b1190f1crow1_col7 {\n",
       "            background-color:  #4b64d5;\n",
       "            color:  #f1f1f1;\n",
       "        }    #T_df4c9a90_5e38_11ea_af85_8623b1190f1crow2_col0 {\n",
       "            background-color:  #4f69d9;\n",
       "            color:  #000000;\n",
       "        }    #T_df4c9a90_5e38_11ea_af85_8623b1190f1crow2_col1 {\n",
       "            background-color:  #e3d9d3;\n",
       "            color:  #000000;\n",
       "        }    #T_df4c9a90_5e38_11ea_af85_8623b1190f1crow2_col2 {\n",
       "            background-color:  #b40426;\n",
       "            color:  #f1f1f1;\n",
       "        }    #T_df4c9a90_5e38_11ea_af85_8623b1190f1crow2_col3 {\n",
       "            background-color:  #3b4cc0;\n",
       "            color:  #f1f1f1;\n",
       "        }    #T_df4c9a90_5e38_11ea_af85_8623b1190f1crow2_col4 {\n",
       "            background-color:  #3d50c3;\n",
       "            color:  #f1f1f1;\n",
       "        }    #T_df4c9a90_5e38_11ea_af85_8623b1190f1crow2_col5 {\n",
       "            background-color:  #3b4cc0;\n",
       "            color:  #f1f1f1;\n",
       "        }    #T_df4c9a90_5e38_11ea_af85_8623b1190f1crow2_col6 {\n",
       "            background-color:  #3b4cc0;\n",
       "            color:  #f1f1f1;\n",
       "        }    #T_df4c9a90_5e38_11ea_af85_8623b1190f1crow2_col7 {\n",
       "            background-color:  #455cce;\n",
       "            color:  #f1f1f1;\n",
       "        }    #T_df4c9a90_5e38_11ea_af85_8623b1190f1crow3_col0 {\n",
       "            background-color:  #3b4cc0;\n",
       "            color:  #f1f1f1;\n",
       "        }    #T_df4c9a90_5e38_11ea_af85_8623b1190f1crow3_col1 {\n",
       "            background-color:  #3b4cc0;\n",
       "            color:  #f1f1f1;\n",
       "        }    #T_df4c9a90_5e38_11ea_af85_8623b1190f1crow3_col2 {\n",
       "            background-color:  #3d50c3;\n",
       "            color:  #f1f1f1;\n",
       "        }    #T_df4c9a90_5e38_11ea_af85_8623b1190f1crow3_col3 {\n",
       "            background-color:  #b40426;\n",
       "            color:  #f1f1f1;\n",
       "        }    #T_df4c9a90_5e38_11ea_af85_8623b1190f1crow3_col4 {\n",
       "            background-color:  #4358cb;\n",
       "            color:  #f1f1f1;\n",
       "        }    #T_df4c9a90_5e38_11ea_af85_8623b1190f1crow3_col5 {\n",
       "            background-color:  #455cce;\n",
       "            color:  #f1f1f1;\n",
       "        }    #T_df4c9a90_5e38_11ea_af85_8623b1190f1crow3_col6 {\n",
       "            background-color:  #3d50c3;\n",
       "            color:  #f1f1f1;\n",
       "        }    #T_df4c9a90_5e38_11ea_af85_8623b1190f1crow3_col7 {\n",
       "            background-color:  #3f53c6;\n",
       "            color:  #f1f1f1;\n",
       "        }    #T_df4c9a90_5e38_11ea_af85_8623b1190f1crow4_col0 {\n",
       "            background-color:  #3f53c6;\n",
       "            color:  #f1f1f1;\n",
       "        }    #T_df4c9a90_5e38_11ea_af85_8623b1190f1crow4_col1 {\n",
       "            background-color:  #3b4cc0;\n",
       "            color:  #f1f1f1;\n",
       "        }    #T_df4c9a90_5e38_11ea_af85_8623b1190f1crow4_col2 {\n",
       "            background-color:  #4358cb;\n",
       "            color:  #f1f1f1;\n",
       "        }    #T_df4c9a90_5e38_11ea_af85_8623b1190f1crow4_col3 {\n",
       "            background-color:  #455cce;\n",
       "            color:  #f1f1f1;\n",
       "        }    #T_df4c9a90_5e38_11ea_af85_8623b1190f1crow4_col4 {\n",
       "            background-color:  #b40426;\n",
       "            color:  #f1f1f1;\n",
       "        }    #T_df4c9a90_5e38_11ea_af85_8623b1190f1crow4_col5 {\n",
       "            background-color:  #3f53c6;\n",
       "            color:  #f1f1f1;\n",
       "        }    #T_df4c9a90_5e38_11ea_af85_8623b1190f1crow4_col6 {\n",
       "            background-color:  #3f53c6;\n",
       "            color:  #f1f1f1;\n",
       "        }    #T_df4c9a90_5e38_11ea_af85_8623b1190f1crow4_col7 {\n",
       "            background-color:  #3b4cc0;\n",
       "            color:  #f1f1f1;\n",
       "        }    #T_df4c9a90_5e38_11ea_af85_8623b1190f1crow5_col0 {\n",
       "            background-color:  #4358cb;\n",
       "            color:  #f1f1f1;\n",
       "        }    #T_df4c9a90_5e38_11ea_af85_8623b1190f1crow5_col1 {\n",
       "            background-color:  #3d50c3;\n",
       "            color:  #f1f1f1;\n",
       "        }    #T_df4c9a90_5e38_11ea_af85_8623b1190f1crow5_col2 {\n",
       "            background-color:  #3b4cc0;\n",
       "            color:  #f1f1f1;\n",
       "        }    #T_df4c9a90_5e38_11ea_af85_8623b1190f1crow5_col3 {\n",
       "            background-color:  #4358cb;\n",
       "            color:  #f1f1f1;\n",
       "        }    #T_df4c9a90_5e38_11ea_af85_8623b1190f1crow5_col4 {\n",
       "            background-color:  #3b4cc0;\n",
       "            color:  #f1f1f1;\n",
       "        }    #T_df4c9a90_5e38_11ea_af85_8623b1190f1crow5_col5 {\n",
       "            background-color:  #b40426;\n",
       "            color:  #f1f1f1;\n",
       "        }    #T_df4c9a90_5e38_11ea_af85_8623b1190f1crow5_col6 {\n",
       "            background-color:  #3f53c6;\n",
       "            color:  #f1f1f1;\n",
       "        }    #T_df4c9a90_5e38_11ea_af85_8623b1190f1crow5_col7 {\n",
       "            background-color:  #3f53c6;\n",
       "            color:  #f1f1f1;\n",
       "        }    #T_df4c9a90_5e38_11ea_af85_8623b1190f1crow6_col0 {\n",
       "            background-color:  #3f53c6;\n",
       "            color:  #f1f1f1;\n",
       "        }    #T_df4c9a90_5e38_11ea_af85_8623b1190f1crow6_col1 {\n",
       "            background-color:  #3b4cc0;\n",
       "            color:  #f1f1f1;\n",
       "        }    #T_df4c9a90_5e38_11ea_af85_8623b1190f1crow6_col2 {\n",
       "            background-color:  #3d50c3;\n",
       "            color:  #f1f1f1;\n",
       "        }    #T_df4c9a90_5e38_11ea_af85_8623b1190f1crow6_col3 {\n",
       "            background-color:  #3d50c3;\n",
       "            color:  #f1f1f1;\n",
       "        }    #T_df4c9a90_5e38_11ea_af85_8623b1190f1crow6_col4 {\n",
       "            background-color:  #3d50c3;\n",
       "            color:  #f1f1f1;\n",
       "        }    #T_df4c9a90_5e38_11ea_af85_8623b1190f1crow6_col5 {\n",
       "            background-color:  #4358cb;\n",
       "            color:  #f1f1f1;\n",
       "        }    #T_df4c9a90_5e38_11ea_af85_8623b1190f1crow6_col6 {\n",
       "            background-color:  #b40426;\n",
       "            color:  #f1f1f1;\n",
       "        }    #T_df4c9a90_5e38_11ea_af85_8623b1190f1crow6_col7 {\n",
       "            background-color:  #4358cb;\n",
       "            color:  #f1f1f1;\n",
       "        }    #T_df4c9a90_5e38_11ea_af85_8623b1190f1crow7_col0 {\n",
       "            background-color:  #3b4cc0;\n",
       "            color:  #f1f1f1;\n",
       "        }    #T_df4c9a90_5e38_11ea_af85_8623b1190f1crow7_col1 {\n",
       "            background-color:  #3b4cc0;\n",
       "            color:  #f1f1f1;\n",
       "        }    #T_df4c9a90_5e38_11ea_af85_8623b1190f1crow7_col2 {\n",
       "            background-color:  #4b64d5;\n",
       "            color:  #f1f1f1;\n",
       "        }    #T_df4c9a90_5e38_11ea_af85_8623b1190f1crow7_col3 {\n",
       "            background-color:  #4358cb;\n",
       "            color:  #f1f1f1;\n",
       "        }    #T_df4c9a90_5e38_11ea_af85_8623b1190f1crow7_col4 {\n",
       "            background-color:  #3b4cc0;\n",
       "            color:  #f1f1f1;\n",
       "        }    #T_df4c9a90_5e38_11ea_af85_8623b1190f1crow7_col5 {\n",
       "            background-color:  #455cce;\n",
       "            color:  #f1f1f1;\n",
       "        }    #T_df4c9a90_5e38_11ea_af85_8623b1190f1crow7_col6 {\n",
       "            background-color:  #455cce;\n",
       "            color:  #f1f1f1;\n",
       "        }    #T_df4c9a90_5e38_11ea_af85_8623b1190f1crow7_col7 {\n",
       "            background-color:  #b40426;\n",
       "            color:  #f1f1f1;\n",
       "        }</style><table id=\"T_df4c9a90_5e38_11ea_af85_8623b1190f1c\" ><thead>    <tr>        <th class=\"blank level0\" ></th>        <th class=\"col_heading level0 col0\" >Lag1</th>        <th class=\"col_heading level0 col1\" >Year</th>        <th class=\"col_heading level0 col2\" >Volume</th>        <th class=\"col_heading level0 col3\" >Lag2</th>        <th class=\"col_heading level0 col4\" >Lag5</th>        <th class=\"col_heading level0 col5\" >Lag4</th>        <th class=\"col_heading level0 col6\" >Lag3</th>        <th class=\"col_heading level0 col7\" >Today</th>    </tr></thead><tbody>\n",
       "                <tr>\n",
       "                        <th id=\"T_df4c9a90_5e38_11ea_af85_8623b1190f1clevel0_row0\" class=\"row_heading level0 row0\" >Lag1</th>\n",
       "                        <td id=\"T_df4c9a90_5e38_11ea_af85_8623b1190f1crow0_col0\" class=\"data row0 col0\" >1.00</td>\n",
       "                        <td id=\"T_df4c9a90_5e38_11ea_af85_8623b1190f1crow0_col1\" class=\"data row0 col1\" >0.03</td>\n",
       "                        <td id=\"T_df4c9a90_5e38_11ea_af85_8623b1190f1crow0_col2\" class=\"data row0 col2\" >0.04</td>\n",
       "                        <td id=\"T_df4c9a90_5e38_11ea_af85_8623b1190f1crow0_col3\" class=\"data row0 col3\" >-0.03</td>\n",
       "                        <td id=\"T_df4c9a90_5e38_11ea_af85_8623b1190f1crow0_col4\" class=\"data row0 col4\" >-0.01</td>\n",
       "                        <td id=\"T_df4c9a90_5e38_11ea_af85_8623b1190f1crow0_col5\" class=\"data row0 col5\" >-0.00</td>\n",
       "                        <td id=\"T_df4c9a90_5e38_11ea_af85_8623b1190f1crow0_col6\" class=\"data row0 col6\" >-0.01</td>\n",
       "                        <td id=\"T_df4c9a90_5e38_11ea_af85_8623b1190f1crow0_col7\" class=\"data row0 col7\" >-0.03</td>\n",
       "            </tr>\n",
       "            <tr>\n",
       "                        <th id=\"T_df4c9a90_5e38_11ea_af85_8623b1190f1clevel0_row1\" class=\"row_heading level0 row1\" >Year</th>\n",
       "                        <td id=\"T_df4c9a90_5e38_11ea_af85_8623b1190f1crow1_col0\" class=\"data row1 col0\" >0.03</td>\n",
       "                        <td id=\"T_df4c9a90_5e38_11ea_af85_8623b1190f1crow1_col1\" class=\"data row1 col1\" >1.00</td>\n",
       "                        <td id=\"T_df4c9a90_5e38_11ea_af85_8623b1190f1crow1_col2\" class=\"data row1 col2\" >0.54</td>\n",
       "                        <td id=\"T_df4c9a90_5e38_11ea_af85_8623b1190f1crow1_col3\" class=\"data row1 col3\" >0.03</td>\n",
       "                        <td id=\"T_df4c9a90_5e38_11ea_af85_8623b1190f1crow1_col4\" class=\"data row1 col4\" >0.03</td>\n",
       "                        <td id=\"T_df4c9a90_5e38_11ea_af85_8623b1190f1crow1_col5\" class=\"data row1 col5\" >0.04</td>\n",
       "                        <td id=\"T_df4c9a90_5e38_11ea_af85_8623b1190f1crow1_col6\" class=\"data row1 col6\" >0.03</td>\n",
       "                        <td id=\"T_df4c9a90_5e38_11ea_af85_8623b1190f1crow1_col7\" class=\"data row1 col7\" >0.03</td>\n",
       "            </tr>\n",
       "            <tr>\n",
       "                        <th id=\"T_df4c9a90_5e38_11ea_af85_8623b1190f1clevel0_row2\" class=\"row_heading level0 row2\" >Volume</th>\n",
       "                        <td id=\"T_df4c9a90_5e38_11ea_af85_8623b1190f1crow2_col0\" class=\"data row2 col0\" >0.04</td>\n",
       "                        <td id=\"T_df4c9a90_5e38_11ea_af85_8623b1190f1crow2_col1\" class=\"data row2 col1\" >0.54</td>\n",
       "                        <td id=\"T_df4c9a90_5e38_11ea_af85_8623b1190f1crow2_col2\" class=\"data row2 col2\" >1.00</td>\n",
       "                        <td id=\"T_df4c9a90_5e38_11ea_af85_8623b1190f1crow2_col3\" class=\"data row2 col3\" >-0.04</td>\n",
       "                        <td id=\"T_df4c9a90_5e38_11ea_af85_8623b1190f1crow2_col4\" class=\"data row2 col4\" >-0.02</td>\n",
       "                        <td id=\"T_df4c9a90_5e38_11ea_af85_8623b1190f1crow2_col5\" class=\"data row2 col5\" >-0.05</td>\n",
       "                        <td id=\"T_df4c9a90_5e38_11ea_af85_8623b1190f1crow2_col6\" class=\"data row2 col6\" >-0.04</td>\n",
       "                        <td id=\"T_df4c9a90_5e38_11ea_af85_8623b1190f1crow2_col7\" class=\"data row2 col7\" >0.01</td>\n",
       "            </tr>\n",
       "            <tr>\n",
       "                        <th id=\"T_df4c9a90_5e38_11ea_af85_8623b1190f1clevel0_row3\" class=\"row_heading level0 row3\" >Lag2</th>\n",
       "                        <td id=\"T_df4c9a90_5e38_11ea_af85_8623b1190f1crow3_col0\" class=\"data row3 col0\" >-0.03</td>\n",
       "                        <td id=\"T_df4c9a90_5e38_11ea_af85_8623b1190f1crow3_col1\" class=\"data row3 col1\" >0.03</td>\n",
       "                        <td id=\"T_df4c9a90_5e38_11ea_af85_8623b1190f1crow3_col2\" class=\"data row3 col2\" >-0.04</td>\n",
       "                        <td id=\"T_df4c9a90_5e38_11ea_af85_8623b1190f1crow3_col3\" class=\"data row3 col3\" >1.00</td>\n",
       "                        <td id=\"T_df4c9a90_5e38_11ea_af85_8623b1190f1crow3_col4\" class=\"data row3 col4\" >-0.00</td>\n",
       "                        <td id=\"T_df4c9a90_5e38_11ea_af85_8623b1190f1crow3_col5\" class=\"data row3 col5\" >-0.01</td>\n",
       "                        <td id=\"T_df4c9a90_5e38_11ea_af85_8623b1190f1crow3_col6\" class=\"data row3 col6\" >-0.03</td>\n",
       "                        <td id=\"T_df4c9a90_5e38_11ea_af85_8623b1190f1crow3_col7\" class=\"data row3 col7\" >-0.01</td>\n",
       "            </tr>\n",
       "            <tr>\n",
       "                        <th id=\"T_df4c9a90_5e38_11ea_af85_8623b1190f1clevel0_row4\" class=\"row_heading level0 row4\" >Lag5</th>\n",
       "                        <td id=\"T_df4c9a90_5e38_11ea_af85_8623b1190f1crow4_col0\" class=\"data row4 col0\" >-0.01</td>\n",
       "                        <td id=\"T_df4c9a90_5e38_11ea_af85_8623b1190f1crow4_col1\" class=\"data row4 col1\" >0.03</td>\n",
       "                        <td id=\"T_df4c9a90_5e38_11ea_af85_8623b1190f1crow4_col2\" class=\"data row4 col2\" >-0.02</td>\n",
       "                        <td id=\"T_df4c9a90_5e38_11ea_af85_8623b1190f1crow4_col3\" class=\"data row4 col3\" >-0.00</td>\n",
       "                        <td id=\"T_df4c9a90_5e38_11ea_af85_8623b1190f1crow4_col4\" class=\"data row4 col4\" >1.00</td>\n",
       "                        <td id=\"T_df4c9a90_5e38_11ea_af85_8623b1190f1crow4_col5\" class=\"data row4 col5\" >-0.03</td>\n",
       "                        <td id=\"T_df4c9a90_5e38_11ea_af85_8623b1190f1crow4_col6\" class=\"data row4 col6\" >-0.02</td>\n",
       "                        <td id=\"T_df4c9a90_5e38_11ea_af85_8623b1190f1crow4_col7\" class=\"data row4 col7\" >-0.03</td>\n",
       "            </tr>\n",
       "            <tr>\n",
       "                        <th id=\"T_df4c9a90_5e38_11ea_af85_8623b1190f1clevel0_row5\" class=\"row_heading level0 row5\" >Lag4</th>\n",
       "                        <td id=\"T_df4c9a90_5e38_11ea_af85_8623b1190f1crow5_col0\" class=\"data row5 col0\" >-0.00</td>\n",
       "                        <td id=\"T_df4c9a90_5e38_11ea_af85_8623b1190f1crow5_col1\" class=\"data row5 col1\" >0.04</td>\n",
       "                        <td id=\"T_df4c9a90_5e38_11ea_af85_8623b1190f1crow5_col2\" class=\"data row5 col2\" >-0.05</td>\n",
       "                        <td id=\"T_df4c9a90_5e38_11ea_af85_8623b1190f1crow5_col3\" class=\"data row5 col3\" >-0.01</td>\n",
       "                        <td id=\"T_df4c9a90_5e38_11ea_af85_8623b1190f1crow5_col4\" class=\"data row5 col4\" >-0.03</td>\n",
       "                        <td id=\"T_df4c9a90_5e38_11ea_af85_8623b1190f1crow5_col5\" class=\"data row5 col5\" >1.00</td>\n",
       "                        <td id=\"T_df4c9a90_5e38_11ea_af85_8623b1190f1crow5_col6\" class=\"data row5 col6\" >-0.02</td>\n",
       "                        <td id=\"T_df4c9a90_5e38_11ea_af85_8623b1190f1crow5_col7\" class=\"data row5 col7\" >-0.01</td>\n",
       "            </tr>\n",
       "            <tr>\n",
       "                        <th id=\"T_df4c9a90_5e38_11ea_af85_8623b1190f1clevel0_row6\" class=\"row_heading level0 row6\" >Lag3</th>\n",
       "                        <td id=\"T_df4c9a90_5e38_11ea_af85_8623b1190f1crow6_col0\" class=\"data row6 col0\" >-0.01</td>\n",
       "                        <td id=\"T_df4c9a90_5e38_11ea_af85_8623b1190f1crow6_col1\" class=\"data row6 col1\" >0.03</td>\n",
       "                        <td id=\"T_df4c9a90_5e38_11ea_af85_8623b1190f1crow6_col2\" class=\"data row6 col2\" >-0.04</td>\n",
       "                        <td id=\"T_df4c9a90_5e38_11ea_af85_8623b1190f1crow6_col3\" class=\"data row6 col3\" >-0.03</td>\n",
       "                        <td id=\"T_df4c9a90_5e38_11ea_af85_8623b1190f1crow6_col4\" class=\"data row6 col4\" >-0.02</td>\n",
       "                        <td id=\"T_df4c9a90_5e38_11ea_af85_8623b1190f1crow6_col5\" class=\"data row6 col5\" >-0.02</td>\n",
       "                        <td id=\"T_df4c9a90_5e38_11ea_af85_8623b1190f1crow6_col6\" class=\"data row6 col6\" >1.00</td>\n",
       "                        <td id=\"T_df4c9a90_5e38_11ea_af85_8623b1190f1crow6_col7\" class=\"data row6 col7\" >-0.00</td>\n",
       "            </tr>\n",
       "            <tr>\n",
       "                        <th id=\"T_df4c9a90_5e38_11ea_af85_8623b1190f1clevel0_row7\" class=\"row_heading level0 row7\" >Today</th>\n",
       "                        <td id=\"T_df4c9a90_5e38_11ea_af85_8623b1190f1crow7_col0\" class=\"data row7 col0\" >-0.03</td>\n",
       "                        <td id=\"T_df4c9a90_5e38_11ea_af85_8623b1190f1crow7_col1\" class=\"data row7 col1\" >0.03</td>\n",
       "                        <td id=\"T_df4c9a90_5e38_11ea_af85_8623b1190f1crow7_col2\" class=\"data row7 col2\" >0.01</td>\n",
       "                        <td id=\"T_df4c9a90_5e38_11ea_af85_8623b1190f1crow7_col3\" class=\"data row7 col3\" >-0.01</td>\n",
       "                        <td id=\"T_df4c9a90_5e38_11ea_af85_8623b1190f1crow7_col4\" class=\"data row7 col4\" >-0.03</td>\n",
       "                        <td id=\"T_df4c9a90_5e38_11ea_af85_8623b1190f1crow7_col5\" class=\"data row7 col5\" >-0.01</td>\n",
       "                        <td id=\"T_df4c9a90_5e38_11ea_af85_8623b1190f1crow7_col6\" class=\"data row7 col6\" >-0.00</td>\n",
       "                        <td id=\"T_df4c9a90_5e38_11ea_af85_8623b1190f1crow7_col7\" class=\"data row7 col7\" >1.00</td>\n",
       "            </tr>\n",
       "    </tbody></table>"
      ],
      "text/plain": [
       "<pandas.io.formats.style.Styler at 0x17b6744f640>"
      ]
     },
     "execution_count": 20,
     "metadata": {},
     "output_type": "execute_result"
    }
   ],
   "source": [
    "corr = df[['Lag1', 'Year', 'Volume', 'Lag2', 'Lag5', 'Lag4', 'Lag3', 'Today']].corr().round(2)\n",
    "corr.style.background_gradient(cmap='coolwarm').set_precision(2)"
   ]
  },
  {
   "cell_type": "markdown",
   "metadata": {},
   "source": [
    "<h1>Interpretation</h1>\n",
    "<h2>Correlation \\$r and \\$p and heatmap</h2>\n",
    "\n",
    "The first table prints the correlation coefficients. The coefficient is calculated as a strong possible correlation (close to number 1) and strong negative correlation (close to number - 1). Positive correlation means that as one of the numbers increases, the second number will increase as well. Negative correlation means that as one number increases, the other will decrease.  \n",
    "\n",
    "Only features Volume with Year are strongly correlated and as if one of the numbers goes up the other goes up as well (as they are closer to 1). The opposite, there seems to be only little correlation between today's returns and previous days returns.  \n",
    "\n",
    "The second table prints the table of p - values corresponding to the significance levels of the correlations. In general the p - value evaluates how well the data rejects the null hypothesis, which shows whether a predictor is statistically significant. The cutoff for specifying the significance is known as the alpha value, which is most commonly set to 0.05. Thus, if the p - value is less than the 0.05 then the null hypothesis is rejected. As can be see from the results above the p-value of only Year and Volume is 0, which is less than the significance level 0.05. The conclusion is that Year and Volume are significantly correlated with a correlation coefficient of 0.54 and p-value of 0.    \n",
    "\n",
    "Lastly the table is printed in colors as a heatmap. In the generated colored heatmap, negative correlations are in blue and positive ones in red color. If there is no correlation between two variables, meaning when the correlation is close to 0, then the color is grey. Thus with the heatmap, we can see again that Year and Volume are correlated. The heatmap visualization helps to identify the correlations faster, however the explanation for the numbers is the same as the explanation for the correlation coefficient table above."
   ]
  },
  {
   "cell_type": "code",
   "execution_count": 26,
   "metadata": {},
   "outputs": [
    {
     "data": {
      "text/plain": [
       "[Text(0, 0.5, 'Volume, the number of shares traded on the previous day, in billions'),\n",
       " Text(0.5, 0, 'Year')]"
      ]
     },
     "execution_count": 26,
     "metadata": {},
     "output_type": "execute_result"
    },
    {
     "data": {
      "image/png": "[encoded data removed]",
      "text/plain": [
       "<Figure size 432x288 with 1 Axes>"
      ]
     },
     "metadata": {
      "needs_background": "light"
     },
     "output_type": "display_data"
    }
   ],
   "source": [
    "ax = sns.regplot(x = \"Year\", y = \"Volume\", \n",
    "            data=df, \n",
    "            marker='o', \n",
    "            color='black', \n",
    "            scatter_kws={'s':5})\n",
    "ax.set(xlabel='Year', ylabel='Volume, the number of shares traded on the previous day, in billions')"
   ]
  },
  {
   "cell_type": "markdown",
   "metadata": {},
   "source": [
    "<h1>Interpretation</h1>\n",
    "  \n",
    "By plotting Year with Volume it is visible that Volume is increasing over time. More specifically, starting from 2001 the average number of shares traded daily increases until 2005."
   ]
  },
  {
   "cell_type": "code",
   "execution_count": 27,
   "metadata": {},
   "outputs": [
    {
     "name": "stdout",
     "output_type": "stream",
     "text": [
      "                          Generalized Linear Model Regression Results                           \n",
      "================================================================================================\n",
      "Dep. Variable:     ['Direction[Down]', 'Direction[Up]']   No. Observations:                 1250\n",
      "Model:                                              GLM   Df Residuals:                     1243\n",
      "Model Family:                                  Binomial   Df Model:                            6\n",
      "Link Function:                                    logit   Scale:                          1.0000\n",
      "Method:                                            IRLS   Log-Likelihood:                -863.79\n",
      "Date:                                  Wed, 04 Mar 2020   Deviance:                       1727.6\n",
      "Time:                                          18:11:20   Pearson chi2:                 1.25e+03\n",
      "No. Iterations:                                       4                                         \n",
      "Covariance Type:                              nonrobust                                         \n",
      "==============================================================================\n",
      "                 coef    std err          z      P>|z|      [0.025      0.975]\n",
      "------------------------------------------------------------------------------\n",
      "Intercept      0.1260      0.241      0.523      0.601      -0.346       0.598\n",
      "Lag1           0.0731      0.050      1.457      0.145      -0.025       0.171\n",
      "Lag2           0.0423      0.050      0.845      0.398      -0.056       0.140\n",
      "Lag3          -0.0111      0.050     -0.222      0.824      -0.109       0.087\n",
      "Lag4          -0.0094      0.050     -0.187      0.851      -0.107       0.089\n",
      "Lag5          -0.0103      0.050     -0.208      0.835      -0.107       0.087\n",
      "Volume        -0.1354      0.158     -0.855      0.392      -0.446       0.175\n",
      "==============================================================================\n"
     ]
    }
   ],
   "source": [
    "model = sm.formula.glm('Direction ~ Lag1 + Lag2 + Lag3 + Lag4 + Lag5 + Volume ',\n",
    "                       family=sm.families.Binomial(), data=df)\n",
    "result = model.fit()\n",
    "print(result.summary())"
   ]
  },
  {
   "cell_type": "markdown",
   "metadata": {},
   "source": [
    "<h1>Interpretation</h1>\n",
    "\n",
    "The smallest p-value associated with Lag1, and the **positive** coefficient means that if hte market had a positive return the previous day, it is likely to go up today again. But since the p-value of 0.145 is still > 0.05 we can not reject the null hypothesis and can conclude that there is no clear relation between Lag1 and Direction. For all other p-values it is similar since all of them are > 0.05."
   ]
  },
  {
   "cell_type": "code",
   "execution_count": 28,
   "metadata": {},
   "outputs": [
    {
     "name": "stdout",
     "output_type": "stream",
     "text": [
      "[0.49291587 0.51853212 0.51886117 0.48477764 0.48921884 0.49304354\n",
      " 0.50734913 0.49077084 0.48238647 0.51116222]\n"
     ]
    }
   ],
   "source": [
    "predictions = result.predict()\n",
    "print(predictions[0:10]) #1:10"
   ]
  },
  {
   "cell_type": "code",
   "execution_count": 29,
   "metadata": {},
   "outputs": [
    {
     "name": "stdout",
     "output_type": "stream",
     "text": [
      "Dependent variables:\n",
      "['Direction[Down]', 'Direction[Up]']\n",
      "\n",
      " Assigned dummy variables:\n",
      "[['Up' 0.0]\n",
      " ['Up' 0.0]\n",
      " ['Down' 1.0]\n",
      " ...\n",
      " ['Up' 0.0]\n",
      " ['Down' 1.0]\n",
      " ['Down' 1.0]]\n"
     ]
    }
   ],
   "source": [
    "print(\"Dependent variables:\")\n",
    "print(result.model.endog_names)\n",
    "print(\"\\n Assigned dummy variables:\")\n",
    "print(np.column_stack((df[[\"Direction\"]], \n",
    "                       result.model.endog)))"
   ]
  },
  {
   "cell_type": "code",
   "execution_count": 30,
   "metadata": {},
   "outputs": [
    {
     "name": "stdout",
     "output_type": "stream",
     "text": [
      "[[145 457]\n",
      " [141 507]]\n",
      "Accuracy Score: 0.5216\n"
     ]
    }
   ],
   "source": [
    "predictions_nominal = [ \"Up\" if x < 0.5 else \"Down\" for x in predictions]\n",
    "print(confusion_matrix(df[\"Direction\"], \n",
    "                       predictions_nominal))\n",
    "print('Accuracy Score:',accuracy_score(df[\"Direction\"], predictions_nominal))"
   ]
  },
  {
   "cell_type": "markdown",
   "metadata": {},
   "source": [
    "<h1>Interpretation</h1>\n",
    "\n",
    "\n",
    "Up (0.0) and Down (1.0) have assigned dummy variables to them, as can be seen in the matrix above. The off - diagonal elements present the incorrect predictions (457 and 141). The confusion matrix presents also diagonal elements, which indicate the correct predictions (145 + 507 = 652 / 1250 = 0.5216)  So, from this calculation we get the mean or accuracy score to compute the fraction of days for which the prediction was correct. In this example the prediction was accurate or correct for predicting the movement of the market 52.2\\% of the time. With this value we also get the training error rate, which is in this case 100 - 52.2 = 47.8\\%. However, the training error rate tends to underestimate the test error rate (as stated in the course literature book). Thus, further steps will be taken in the following parts to assess the accuracy of the logistic regression model."
   ]
  },
  {
   "cell_type": "code",
   "execution_count": 31,
   "metadata": {},
   "outputs": [
    {
     "name": "stdout",
     "output_type": "stream",
     "text": [
      "[[114 488]\n",
      " [102 546]]\n",
      "Accuracy Score: 0.528\n"
     ]
    }
   ],
   "source": [
    "model = sm.formula.glm('Direction ~ Lag1 + Lag2',\n",
    "                       family=sm.families.Binomial(), data=df)\n",
    "result = model.fit()\n",
    "predictions = result.predict()\n",
    "predictions_nominal = [ \"Up\" if x < 0.5 else \"Down\" for x in predictions]\n",
    "print(confusion_matrix(df[\"Direction\"], \n",
    "                       predictions_nominal))\n",
    "print('Accuracy Score:',accuracy_score(df[\"Direction\"], predictions_nominal))"
   ]
  },
  {
   "cell_type": "markdown",
   "metadata": {},
   "source": [
    "<h1>Interpretation</h1>\n",
    "\n",
    "This diagonals and off - diagonals present again the correct and incorrect predictions. So, in this example where the subset of Lag1 + Lag2 predictors were only shown, the correct predictions are 114 + 546 = 660 / 1250 = 0.528 . Thus, compared to the previous example, where now only Lag1 + Lag2 are choosen as predictors, the prediction was accurate / correct for predicting the movement of the market 52.8\\% of the time. This is slightly better than when all predictors were choosen in the previous example. "
   ]
  },
  {
   "cell_type": "markdown",
   "metadata": {},
   "source": [
    "<h1>Performing an LDA</h1> "
   ]
  },
  {
   "cell_type": "code",
   "execution_count": 32,
   "metadata": {},
   "outputs": [
    {
     "name": "stdout",
     "output_type": "stream",
     "text": [
      "Prior probabilities of groups: \n",
      "[0.4816 0.5184]\n",
      "\n",
      " Group means: \n",
      "[[ 0.05068605  0.03229734]\n",
      " [-0.03969136 -0.02244444]]\n",
      "\n",
      " Coefficients of linear discriminants: \n"
     ]
    },
    {
     "data": {
      "text/html": [
       "<div>\n",
       "<style scoped>\n",
       "    .dataframe tbody tr th:only-of-type {\n",
       "        vertical-align: middle;\n",
       "    }\n",
       "\n",
       "    .dataframe tbody tr th {\n",
       "        vertical-align: top;\n",
       "    }\n",
       "\n",
       "    .dataframe thead th {\n",
       "        text-align: right;\n",
       "    }\n",
       "</style>\n",
       "<table border=\"1\" class=\"dataframe\">\n",
       "  <thead>\n",
       "    <tr style=\"text-align: right;\">\n",
       "      <th></th>\n",
       "      <th>LD1</th>\n",
       "    </tr>\n",
       "  </thead>\n",
       "  <tbody>\n",
       "    <tr>\n",
       "      <th>Lag1</th>\n",
       "      <td>-0.756761</td>\n",
       "    </tr>\n",
       "    <tr>\n",
       "      <th>Lag2</th>\n",
       "      <td>-0.470787</td>\n",
       "    </tr>\n",
       "  </tbody>\n",
       "</table>\n",
       "</div>"
      ],
      "text/plain": [
       "           LD1\n",
       "Lag1 -0.756761\n",
       "Lag2 -0.470787"
      ]
     },
     "metadata": {},
     "output_type": "display_data"
    }
   ],
   "source": [
    "X_train = df[['Lag1','Lag2']]\n",
    "y_train = df['Direction']\n",
    "\n",
    "X_test = df[['Lag1','Lag2']]\n",
    "y_test = df['Direction']\n",
    "\n",
    "lda = LinearDiscriminantAnalysis()\n",
    "model = lda.fit(X_train, y_train)\n",
    "\n",
    "print('Prior probabilities of groups: ')\n",
    "print(model.priors_)\n",
    "print('\\n Group means: ')\n",
    "print(model.means_)\n",
    "print('\\n Coefficients of linear discriminants: ')\n",
    "\n",
    "def pretty_scalings(lda, X, out=False):\n",
    "    ret = pd.DataFrame(lda.scalings_, index=X.columns, columns=[\"LD\"+str(i+1) for i in range(lda.scalings_.shape[1])])\n",
    "    if out:\n",
    "     #  print(\"Coefficients of linear discriminants:\")\n",
    "        display(ret)\n",
    "    return ret\n",
    "\n",
    "pretty_scalings_ = pretty_scalings(model, X_train, out=True)"
   ]
  },
  {
   "cell_type": "code",
   "execution_count": 33,
   "metadata": {},
   "outputs": [
    {
     "data": {
      "text/plain": [
       "(array([  3.,   5.,  12.,  20.,  72., 182., 375., 350., 158.,  40.,  19.,\n",
       "         10.,   2.,   2.]),\n",
       " array([-7.126     , -6.08821429, -5.05042857, -4.01264286, -2.97485714,\n",
       "        -1.93707143, -0.89928571,  0.1385    ,  1.17628571,  2.21407143,\n",
       "         3.25185714,  4.28964286,  5.32742857,  6.36521429,  7.403     ]),\n",
       " <a list of 14 Patch objects>)"
      ]
     },
     "execution_count": 33,
     "metadata": {},
     "output_type": "execute_result"
    },
    {
     "data": {
      "image/png": "[encoded data removed]",
      "text/plain": [
       "<Figure size 432x288 with 1 Axes>"
      ]
     },
     "metadata": {
      "needs_background": "light"
     },
     "output_type": "display_data"
    }
   ],
   "source": [
    "# create new column and use that for histogram, to have even an overlapping histogram\n",
    "df[\"lag1_lag2\"] = df['Lag1']+df['Lag2'] \n",
    "dir_up = df[df['Direction']==\"Up\"]\n",
    "dir_down = df[df['Direction']==\"Down\"]\n",
    "\n",
    "plt.hist(df[\"lag1_lag2\"],\n",
    "        facecolor='orangered',\n",
    "        edgecolor='maroon',\n",
    "        bins=14)\n",
    "\n",
    "# *****Another failed attempt*******\n",
    "# import matplotlib.pyplot as plt\n",
    "# y = df[\"lag1_lag2\"]\n",
    "# x = df['Direction']\n",
    "# plt.bar(x,y) # A bar chart\n",
    "# plt.show()"
   ]
  },
  {
   "cell_type": "markdown",
   "metadata": {},
   "source": [
    "<h1>Interpretation</h1>\n",
    "\n",
    "Prior probabilities of groups shows that 48.2\\% of the trained observations correspond to the days when the market went down and 51.8\\% to those when the market went up.  \n",
    "The group means are the average of each predictor within each class. The results here indicate that the returns for the previous two days tend to be positive when the market declines and negative when the market increases.  \n",
    "Coefficients of linear discriminants gives in this example the linear combination of Lag1 and Lag2 that are used to form the LDA decision rule. Thus, if - 0.757 x Lag1 - 0.471 x Lag2 is large, the the prediction from LDA would be that the market would increase, and on the other hand if it is small, then the LDA prediction would say a market decline.  \n",
    "The failed attempt at the histogram:  What it should really print is actually the trained model of x = Lag1 + Lag2 and y - Direction (thus Direction is either Up or Down)"
   ]
  },
  {
   "cell_type": "markdown",
   "metadata": {},
   "source": [
    "<h1> Using the LDA model </h1>"
   ]
  },
  {
   "cell_type": "code",
   "execution_count": 34,
   "metadata": {},
   "outputs": [
    {
     "name": "stdout",
     "output_type": "stream",
     "text": [
      "[[114 102]\n",
      " [488 546]]\n",
      "\n",
      " Accuracy Score: 0.528\n"
     ]
    }
   ],
   "source": [
    "pred = model.predict(X_test)\n",
    "#print(np.unique(pred, return_counts = True))\n",
    "print(confusion_matrix(pred, y_test))\n",
    "print('\\n Accuracy Score:',accuracy_score(df[\"Direction\"], pred))"
   ]
  },
  {
   "cell_type": "markdown",
   "metadata": {},
   "source": [
    "<h1>Interpretation</h1>\n",
    "\n",
    "\n",
    "This diagonals and off - diagonals present again the correct and incorrect predictions. So, in this example where the subset of Lag1 + Lag2 predictors were only shown, the correct predictions are 114 + 546 = 660 / 1250 = 0.528 . Thus, compared to the logistic regression, where the predictors were the same, it is visible that the confusion matrix and accuracy score are the same too."
   ]
  },
  {
   "cell_type": "markdown",
   "metadata": {},
   "source": [
    "<h1>Performing an QDA</h1> "
   ]
  },
  {
   "cell_type": "code",
   "execution_count": 35,
   "metadata": {},
   "outputs": [
    {
     "name": "stdout",
     "output_type": "stream",
     "text": [
      "Prior probabilities of groups: \n",
      "[0.4816 0.5184]\n",
      "\n",
      " Group means: \n",
      "[[ 0.05068605  0.03229734]\n",
      " [-0.03969136 -0.02244444]]\n"
     ]
    }
   ],
   "source": [
    "X_train = df[['Lag1','Lag2']]\n",
    "y_train = df['Direction']\n",
    "\n",
    "X_test = df[['Lag1','Lag2']]\n",
    "y_test = df['Direction']\n",
    "\n",
    "qda = QuadraticDiscriminantAnalysis()\n",
    "model = qda.fit(X_train, y_train)\n",
    "\n",
    "print('Prior probabilities of groups: ')\n",
    "print(model.priors_)\n",
    "print('\\n Group means: ')\n",
    "print(model.means_)"
   ]
  },
  {
   "cell_type": "markdown",
   "metadata": {},
   "source": [
    "<h1>Interpretation</h1>\n",
    "\n",
    "The results for prior probabilities of groups and for group means are the same as when performed with LDA, since the groupps are the same (thus, same interpretation applies). However, this time, there are no linear discrimintants. That is simply because QDA performs quadratic function of the predictors and not linear."
   ]
  },
  {
   "cell_type": "code",
   "execution_count": 36,
   "metadata": {},
   "outputs": [
    {
     "name": "stdout",
     "output_type": "stream",
     "text": [
      "[[109  94]\n",
      " [493 554]]\n",
      "\n",
      " Accuracy Score: 0.5304\n"
     ]
    }
   ],
   "source": [
    "pred = model.predict(X_test)\n",
    "print(confusion_matrix(pred, y_test))\n",
    "print('\\n Accuracy Score:',accuracy_score(df[\"Direction\"], pred))"
   ]
  },
  {
   "cell_type": "markdown",
   "metadata": {},
   "source": [
    "<h1>Interpretation</h1>\n",
    "\n",
    "This diagonals and off - diagonals present again the correct and incorrect predictions. So, the correct predictions are 109 + 554 = 663 / 1250 = 0.530 . Thus, compared to the logistic regression, and LDA, where all models had same predictors, it is visible that the confusion matrix and accuracy score have best results when performing QDA. The accuracy score is now 53.0\\%  "
   ]
  },
  {
   "cell_type": "markdown",
   "metadata": {},
   "source": [
    "<h1>Using K-Nearest Neighbors Clustering</h1> "
   ]
  },
  {
   "cell_type": "code",
   "execution_count": 45,
   "metadata": {},
   "outputs": [
    {
     "data": {
      "text/plain": [
       "(252, 9)"
      ]
     },
     "execution_count": 45,
     "metadata": {},
     "output_type": "execute_result"
    }
   ],
   "source": [
    "# objects before 2005 set to true\n",
    "train = df[df['Year']<2005]\n",
    "train.shape #998 \n",
    "\n",
    "# set to !train, thus to false\n",
    "not_train = df[df['Year']==2005]\n",
    "not_train.shape"
   ]
  },
  {
   "cell_type": "code",
   "execution_count": 38,
   "metadata": {},
   "outputs": [],
   "source": [
    "X_train = df[df['Year']<2005][['Lag1','Lag2']]\n",
    "y_train = df[df['Year']<2005]['Direction']\n",
    "\n",
    "X_test = df[df['Year']==2005][['Lag1','Lag2']]\n",
    "y_test = df[df['Year']==2005]['Direction']"
   ]
  },
  {
   "cell_type": "code",
   "execution_count": 39,
   "metadata": {},
   "outputs": [],
   "source": [
    "knn = neighbors.KNeighborsClassifier(n_neighbors = 1)\n",
    "pred = knn.fit(X_train, y_train).predict(X_test)"
   ]
  },
  {
   "cell_type": "code",
   "execution_count": 40,
   "metadata": {},
   "outputs": [
    {
     "name": "stdout",
     "output_type": "stream",
     "text": [
      "[[43 58]\n",
      " [68 83]]\n",
      "\n",
      " Accuracy Score: 0.5\n"
     ]
    }
   ],
   "source": [
    "print(confusion_matrix(y_test, pred).T)\n",
    "#print(classification_report(y_test, pred, digits=3))\n",
    "print('\\n Accuracy Score:',accuracy_score(y_test, pred))"
   ]
  },
  {
   "cell_type": "code",
   "execution_count": 41,
   "metadata": {},
   "outputs": [
    {
     "name": "stdout",
     "output_type": "stream",
     "text": [
      "[[48 55]\n",
      " [63 86]]\n",
      "\n",
      " Accuracy Score: 0.5317460317460317\n"
     ]
    }
   ],
   "source": [
    "knn = neighbors.KNeighborsClassifier(n_neighbors=3)\n",
    "model = knn.fit(X_train, y_train)\n",
    "\n",
    "pred = model.predict(X_test)\n",
    "print(confusion_matrix(y_test, pred).T)\n",
    "#print(classification_report(y_test, pred, digits=3))\n",
    "print('\\n Accuracy Score:',accuracy_score(y_test, pred))"
   ]
  },
  {
   "cell_type": "markdown",
   "metadata": {},
   "source": [
    "<h1>Interpretation</h1>\n",
    "\n",
    "Again the aim was to predict Direction using percentage returns from Lag1 and Lag2 (the previous two days). To train the model, only the observations from years 2001 until 2004 were chosen. The year 2005 is used to perform the testing on. The confusion matrix and an accuracy score are computed for both, when K = 1 and when K = 3. K is the number of nearest neighbors used by the classifier.  \n",
    "**K = 1** This diagonals and off - diagonals present again the correct and incorrect predictions. So, the correct predictions are 43 + 83 = 126 / 252 = 0.5 . The accuracy score is now 50.0\\%  \n",
    "**K = 3** This diagonals and off - diagonals present again the correct and incorrect predictions. So, the correct predictions are 48 + 86 = 134 / 252 = 0.532 . The accuracy score is now 53.2\\%.  \n",
    "Thus, when taking 3 nearest neighbors, the accuracy score improves slightly.  \n",
    "\n",
    "Overall, it seems that KNN (3 nearest neighbors) with an accuracy score of 53.2\\% followed by QDA with 53.04\\% seem to provide best accuracy scores for this data."
   ]
  }
 ],
 "metadata": {
  "kernelspec": {
   "display_name": "Python 3",
   "language": "python",
   "name": "python3"
  },
  "language_info": {
   "codemirror_mode": {
    "name": "ipython",
    "version": 3
   },
   "file_extension": ".py",
   "mimetype": "text/x-python",
   "name": "python",
   "nbconvert_exporter": "python",
   "pygments_lexer": "ipython3",
   "version": "3.8.1"
  }
 },
 "nbformat": 4,
 "nbformat_minor": 4
}
