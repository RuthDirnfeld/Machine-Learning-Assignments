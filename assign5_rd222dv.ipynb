{
 "cells": [
  {
   "cell_type": "code",
   "execution_count": 1,
   "metadata": {},
   "outputs": [],
   "source": [
    "import sys\n",
    "import pandas as pd\n",
    "import numpy as np\n",
    "import matplotlib\n",
    "import matplotlib.pyplot as plt\n",
    "import seaborn as sns\n",
    "from scipy.stats import pearsonr\n",
    "import itertools\n",
    "np.warnings.filterwarnings('ignore')\n",
    "from sklearn.metrics import confusion_matrix, accuracy_score, classification_report\n",
    "from sklearn.preprocessing import StandardScaler\n",
    "from sklearn.model_selection import train_test_split\n",
    "from sklearn.tree import DecisionTreeRegressor, DecisionTreeClassifier, export_graphviz\n",
    "from sklearn.ensemble import RandomForestRegressor, GradientBoostingRegressor\n",
    "from sklearn.metrics import confusion_matrix, mean_squared_error\n",
    "from sklearn.model_selection import train_test_split\n",
    "from IPython.display import Image\n",
    "from IPython.core.display import HTML \n",
    "from sklearn.model_selection import cross_val_score\n",
    "from sklearn.model_selection import KFold, LeaveOneOut\n",
    "from sklearn.model_selection import cross_validate\n",
    "from sklearn import model_selection, tree\n",
    "from sklearn.tree._tree import TREE_LEAF\n",
    "from sklearn.metrics import mean_squared_error, r2_score\n",
    "import sklearn.metrics as metrics"
   ]
  },
  {
   "cell_type": "code",
   "execution_count": 2,
   "metadata": {},
   "outputs": [],
   "source": [
    "df = pd.read_csv('ISLR/data/Carseats.csv',index_col=0, parse_dates=True)"
   ]
  },
  {
   "cell_type": "code",
   "execution_count": 3,
   "metadata": {},
   "outputs": [
    {
     "name": "stdout",
     "output_type": "stream",
     "text": [
      "11\n",
      "1. 'Sales' 2. 'CompPrice' 3. 'Income' 4. 'Advertising' 5. 'Population' 6. 'Price' 7. 'ShelveLoc' 8. 'Age' 9. 'Education' 10. 'Urban' 11. 'US' "
     ]
    }
   ],
   "source": [
    "r, c = df.shape\n",
    "print(c)\n",
    "for a, b in enumerate(df, 1):\n",
    "    list = \"\".join('{}. \\'{}\\''.format(a, b))\n",
    "    print (list, end=\" \")"
   ]
  },
  {
   "cell_type": "code",
   "execution_count": 161,
   "metadata": {},
   "outputs": [
    {
     "data": {
      "text/html": [
       "<div>\n",
       "<style scoped>\n",
       "    .dataframe tbody tr th:only-of-type {\n",
       "        vertical-align: middle;\n",
       "    }\n",
       "\n",
       "    .dataframe tbody tr th {\n",
       "        vertical-align: top;\n",
       "    }\n",
       "\n",
       "    .dataframe thead th {\n",
       "        text-align: right;\n",
       "    }\n",
       "</style>\n",
       "<table border=\"1\" class=\"dataframe\">\n",
       "  <thead>\n",
       "    <tr style=\"text-align: right;\">\n",
       "      <th></th>\n",
       "      <th>Sales</th>\n",
       "      <th>CompPrice</th>\n",
       "      <th>Income</th>\n",
       "      <th>Advertising</th>\n",
       "      <th>Population</th>\n",
       "      <th>Price</th>\n",
       "      <th>Age</th>\n",
       "      <th>Education</th>\n",
       "    </tr>\n",
       "  </thead>\n",
       "  <tbody>\n",
       "    <tr>\n",
       "      <th>count</th>\n",
       "      <td>400.000000</td>\n",
       "      <td>400.000000</td>\n",
       "      <td>400.000000</td>\n",
       "      <td>400.000000</td>\n",
       "      <td>400.000000</td>\n",
       "      <td>400.000000</td>\n",
       "      <td>400.000000</td>\n",
       "      <td>400.000000</td>\n",
       "    </tr>\n",
       "    <tr>\n",
       "      <th>mean</th>\n",
       "      <td>7.496325</td>\n",
       "      <td>124.975000</td>\n",
       "      <td>68.657500</td>\n",
       "      <td>6.635000</td>\n",
       "      <td>264.840000</td>\n",
       "      <td>115.795000</td>\n",
       "      <td>53.322500</td>\n",
       "      <td>13.900000</td>\n",
       "    </tr>\n",
       "    <tr>\n",
       "      <th>std</th>\n",
       "      <td>2.824115</td>\n",
       "      <td>15.334512</td>\n",
       "      <td>27.986037</td>\n",
       "      <td>6.650364</td>\n",
       "      <td>147.376436</td>\n",
       "      <td>23.676664</td>\n",
       "      <td>16.200297</td>\n",
       "      <td>2.620528</td>\n",
       "    </tr>\n",
       "    <tr>\n",
       "      <th>min</th>\n",
       "      <td>0.000000</td>\n",
       "      <td>77.000000</td>\n",
       "      <td>21.000000</td>\n",
       "      <td>0.000000</td>\n",
       "      <td>10.000000</td>\n",
       "      <td>24.000000</td>\n",
       "      <td>25.000000</td>\n",
       "      <td>10.000000</td>\n",
       "    </tr>\n",
       "    <tr>\n",
       "      <th>25%</th>\n",
       "      <td>5.390000</td>\n",
       "      <td>115.000000</td>\n",
       "      <td>42.750000</td>\n",
       "      <td>0.000000</td>\n",
       "      <td>139.000000</td>\n",
       "      <td>100.000000</td>\n",
       "      <td>39.750000</td>\n",
       "      <td>12.000000</td>\n",
       "    </tr>\n",
       "    <tr>\n",
       "      <th>50%</th>\n",
       "      <td>7.490000</td>\n",
       "      <td>125.000000</td>\n",
       "      <td>69.000000</td>\n",
       "      <td>5.000000</td>\n",
       "      <td>272.000000</td>\n",
       "      <td>117.000000</td>\n",
       "      <td>54.500000</td>\n",
       "      <td>14.000000</td>\n",
       "    </tr>\n",
       "    <tr>\n",
       "      <th>75%</th>\n",
       "      <td>9.320000</td>\n",
       "      <td>135.000000</td>\n",
       "      <td>91.000000</td>\n",
       "      <td>12.000000</td>\n",
       "      <td>398.500000</td>\n",
       "      <td>131.000000</td>\n",
       "      <td>66.000000</td>\n",
       "      <td>16.000000</td>\n",
       "    </tr>\n",
       "    <tr>\n",
       "      <th>max</th>\n",
       "      <td>16.270000</td>\n",
       "      <td>175.000000</td>\n",
       "      <td>120.000000</td>\n",
       "      <td>29.000000</td>\n",
       "      <td>509.000000</td>\n",
       "      <td>191.000000</td>\n",
       "      <td>80.000000</td>\n",
       "      <td>18.000000</td>\n",
       "    </tr>\n",
       "  </tbody>\n",
       "</table>\n",
       "</div>"
      ],
      "text/plain": [
       "            Sales   CompPrice      Income  Advertising  Population  \\\n",
       "count  400.000000  400.000000  400.000000   400.000000  400.000000   \n",
       "mean     7.496325  124.975000   68.657500     6.635000  264.840000   \n",
       "std      2.824115   15.334512   27.986037     6.650364  147.376436   \n",
       "min      0.000000   77.000000   21.000000     0.000000   10.000000   \n",
       "25%      5.390000  115.000000   42.750000     0.000000  139.000000   \n",
       "50%      7.490000  125.000000   69.000000     5.000000  272.000000   \n",
       "75%      9.320000  135.000000   91.000000    12.000000  398.500000   \n",
       "max     16.270000  175.000000  120.000000    29.000000  509.000000   \n",
       "\n",
       "            Price         Age   Education  \n",
       "count  400.000000  400.000000  400.000000  \n",
       "mean   115.795000   53.322500   13.900000  \n",
       "std     23.676664   16.200297    2.620528  \n",
       "min     24.000000   25.000000   10.000000  \n",
       "25%    100.000000   39.750000   12.000000  \n",
       "50%    117.000000   54.500000   14.000000  \n",
       "75%    131.000000   66.000000   16.000000  \n",
       "max    191.000000   80.000000   18.000000  "
      ]
     },
     "execution_count": 161,
     "metadata": {},
     "output_type": "execute_result"
    }
   ],
   "source": [
    "df.describe()"
   ]
  },
  {
   "cell_type": "code",
   "execution_count": 5,
   "metadata": {},
   "outputs": [
    {
     "name": "stdout",
     "output_type": "stream",
     "text": [
      "Medium    219\n",
      "Bad        96\n",
      "Good       85\n",
      "Name: ShelveLoc, dtype: int64\n"
     ]
    }
   ],
   "source": [
    "print(df['ShelveLoc'].value_counts())"
   ]
  },
  {
   "cell_type": "code",
   "execution_count": 6,
   "metadata": {},
   "outputs": [
    {
     "name": "stdout",
     "output_type": "stream",
     "text": [
      "Yes    282\n",
      "No     118\n",
      "Name: Urban, dtype: int64\n"
     ]
    }
   ],
   "source": [
    "print(df['Urban'].value_counts())"
   ]
  },
  {
   "cell_type": "code",
   "execution_count": 7,
   "metadata": {},
   "outputs": [
    {
     "name": "stdout",
     "output_type": "stream",
     "text": [
      "Yes    258\n",
      "No     142\n",
      "Name: US, dtype: int64\n"
     ]
    }
   ],
   "source": [
    "print(df['US'].value_counts())"
   ]
  },
  {
   "cell_type": "code",
   "execution_count": 8,
   "metadata": {},
   "outputs": [
    {
     "data": {
      "text/plain": [
       "400"
      ]
     },
     "execution_count": 8,
     "metadata": {},
     "output_type": "execute_result"
    }
   ],
   "source": [
    "len(df.index)"
   ]
  },
  {
   "cell_type": "code",
   "execution_count": 9,
   "metadata": {},
   "outputs": [
    {
     "data": {
      "text/html": [
       "<div>\n",
       "<style scoped>\n",
       "    .dataframe tbody tr th:only-of-type {\n",
       "        vertical-align: middle;\n",
       "    }\n",
       "\n",
       "    .dataframe tbody tr th {\n",
       "        vertical-align: top;\n",
       "    }\n",
       "\n",
       "    .dataframe thead th {\n",
       "        text-align: right;\n",
       "    }\n",
       "</style>\n",
       "<table border=\"1\" class=\"dataframe\">\n",
       "  <thead>\n",
       "    <tr style=\"text-align: right;\">\n",
       "      <th></th>\n",
       "      <th>Sales</th>\n",
       "      <th>CompPrice</th>\n",
       "      <th>Income</th>\n",
       "      <th>Advertising</th>\n",
       "      <th>Population</th>\n",
       "      <th>Price</th>\n",
       "      <th>ShelveLoc</th>\n",
       "      <th>Age</th>\n",
       "      <th>Education</th>\n",
       "      <th>Urban</th>\n",
       "      <th>US</th>\n",
       "    </tr>\n",
       "  </thead>\n",
       "  <tbody>\n",
       "    <tr>\n",
       "      <th>1</th>\n",
       "      <td>9.50</td>\n",
       "      <td>138</td>\n",
       "      <td>73</td>\n",
       "      <td>11</td>\n",
       "      <td>276</td>\n",
       "      <td>120</td>\n",
       "      <td>Bad</td>\n",
       "      <td>42</td>\n",
       "      <td>17</td>\n",
       "      <td>Yes</td>\n",
       "      <td>Yes</td>\n",
       "    </tr>\n",
       "    <tr>\n",
       "      <th>2</th>\n",
       "      <td>11.22</td>\n",
       "      <td>111</td>\n",
       "      <td>48</td>\n",
       "      <td>16</td>\n",
       "      <td>260</td>\n",
       "      <td>83</td>\n",
       "      <td>Good</td>\n",
       "      <td>65</td>\n",
       "      <td>10</td>\n",
       "      <td>Yes</td>\n",
       "      <td>Yes</td>\n",
       "    </tr>\n",
       "    <tr>\n",
       "      <th>3</th>\n",
       "      <td>10.06</td>\n",
       "      <td>113</td>\n",
       "      <td>35</td>\n",
       "      <td>10</td>\n",
       "      <td>269</td>\n",
       "      <td>80</td>\n",
       "      <td>Medium</td>\n",
       "      <td>59</td>\n",
       "      <td>12</td>\n",
       "      <td>Yes</td>\n",
       "      <td>Yes</td>\n",
       "    </tr>\n",
       "    <tr>\n",
       "      <th>4</th>\n",
       "      <td>7.40</td>\n",
       "      <td>117</td>\n",
       "      <td>100</td>\n",
       "      <td>4</td>\n",
       "      <td>466</td>\n",
       "      <td>97</td>\n",
       "      <td>Medium</td>\n",
       "      <td>55</td>\n",
       "      <td>14</td>\n",
       "      <td>Yes</td>\n",
       "      <td>Yes</td>\n",
       "    </tr>\n",
       "    <tr>\n",
       "      <th>5</th>\n",
       "      <td>4.15</td>\n",
       "      <td>141</td>\n",
       "      <td>64</td>\n",
       "      <td>3</td>\n",
       "      <td>340</td>\n",
       "      <td>128</td>\n",
       "      <td>Bad</td>\n",
       "      <td>38</td>\n",
       "      <td>13</td>\n",
       "      <td>Yes</td>\n",
       "      <td>No</td>\n",
       "    </tr>\n",
       "    <tr>\n",
       "      <th>...</th>\n",
       "      <td>...</td>\n",
       "      <td>...</td>\n",
       "      <td>...</td>\n",
       "      <td>...</td>\n",
       "      <td>...</td>\n",
       "      <td>...</td>\n",
       "      <td>...</td>\n",
       "      <td>...</td>\n",
       "      <td>...</td>\n",
       "      <td>...</td>\n",
       "      <td>...</td>\n",
       "    </tr>\n",
       "    <tr>\n",
       "      <th>396</th>\n",
       "      <td>12.57</td>\n",
       "      <td>138</td>\n",
       "      <td>108</td>\n",
       "      <td>17</td>\n",
       "      <td>203</td>\n",
       "      <td>128</td>\n",
       "      <td>Good</td>\n",
       "      <td>33</td>\n",
       "      <td>14</td>\n",
       "      <td>Yes</td>\n",
       "      <td>Yes</td>\n",
       "    </tr>\n",
       "    <tr>\n",
       "      <th>397</th>\n",
       "      <td>6.14</td>\n",
       "      <td>139</td>\n",
       "      <td>23</td>\n",
       "      <td>3</td>\n",
       "      <td>37</td>\n",
       "      <td>120</td>\n",
       "      <td>Medium</td>\n",
       "      <td>55</td>\n",
       "      <td>11</td>\n",
       "      <td>No</td>\n",
       "      <td>Yes</td>\n",
       "    </tr>\n",
       "    <tr>\n",
       "      <th>398</th>\n",
       "      <td>7.41</td>\n",
       "      <td>162</td>\n",
       "      <td>26</td>\n",
       "      <td>12</td>\n",
       "      <td>368</td>\n",
       "      <td>159</td>\n",
       "      <td>Medium</td>\n",
       "      <td>40</td>\n",
       "      <td>18</td>\n",
       "      <td>Yes</td>\n",
       "      <td>Yes</td>\n",
       "    </tr>\n",
       "    <tr>\n",
       "      <th>399</th>\n",
       "      <td>5.94</td>\n",
       "      <td>100</td>\n",
       "      <td>79</td>\n",
       "      <td>7</td>\n",
       "      <td>284</td>\n",
       "      <td>95</td>\n",
       "      <td>Bad</td>\n",
       "      <td>50</td>\n",
       "      <td>12</td>\n",
       "      <td>Yes</td>\n",
       "      <td>Yes</td>\n",
       "    </tr>\n",
       "    <tr>\n",
       "      <th>400</th>\n",
       "      <td>9.71</td>\n",
       "      <td>134</td>\n",
       "      <td>37</td>\n",
       "      <td>0</td>\n",
       "      <td>27</td>\n",
       "      <td>120</td>\n",
       "      <td>Good</td>\n",
       "      <td>49</td>\n",
       "      <td>16</td>\n",
       "      <td>Yes</td>\n",
       "      <td>Yes</td>\n",
       "    </tr>\n",
       "  </tbody>\n",
       "</table>\n",
       "<p>400 rows × 11 columns</p>\n",
       "</div>"
      ],
      "text/plain": [
       "     Sales  CompPrice  Income  Advertising  Population  Price ShelveLoc  Age  \\\n",
       "1     9.50        138      73           11         276    120       Bad   42   \n",
       "2    11.22        111      48           16         260     83      Good   65   \n",
       "3    10.06        113      35           10         269     80    Medium   59   \n",
       "4     7.40        117     100            4         466     97    Medium   55   \n",
       "5     4.15        141      64            3         340    128       Bad   38   \n",
       "..     ...        ...     ...          ...         ...    ...       ...  ...   \n",
       "396  12.57        138     108           17         203    128      Good   33   \n",
       "397   6.14        139      23            3          37    120    Medium   55   \n",
       "398   7.41        162      26           12         368    159    Medium   40   \n",
       "399   5.94        100      79            7         284     95       Bad   50   \n",
       "400   9.71        134      37            0          27    120      Good   49   \n",
       "\n",
       "     Education Urban   US  \n",
       "1           17   Yes  Yes  \n",
       "2           10   Yes  Yes  \n",
       "3           12   Yes  Yes  \n",
       "4           14   Yes  Yes  \n",
       "5           13   Yes   No  \n",
       "..         ...   ...  ...  \n",
       "396         14   Yes  Yes  \n",
       "397         11    No  Yes  \n",
       "398         18   Yes  Yes  \n",
       "399         12   Yes  Yes  \n",
       "400         16   Yes  Yes  \n",
       "\n",
       "[400 rows x 11 columns]"
      ]
     },
     "execution_count": 9,
     "metadata": {},
     "output_type": "execute_result"
    }
   ],
   "source": [
    "df"
   ]
  },
  {
   "cell_type": "code",
   "execution_count": 10,
   "metadata": {},
   "outputs": [
    {
     "data": {
      "text/html": [
       "<div>\n",
       "<style scoped>\n",
       "    .dataframe tbody tr th:only-of-type {\n",
       "        vertical-align: middle;\n",
       "    }\n",
       "\n",
       "    .dataframe tbody tr th {\n",
       "        vertical-align: top;\n",
       "    }\n",
       "\n",
       "    .dataframe thead th {\n",
       "        text-align: right;\n",
       "    }\n",
       "</style>\n",
       "<table border=\"1\" class=\"dataframe\">\n",
       "  <thead>\n",
       "    <tr style=\"text-align: right;\">\n",
       "      <th></th>\n",
       "      <th>Population</th>\n",
       "      <th>Income</th>\n",
       "      <th>Sales</th>\n",
       "      <th>Advertising</th>\n",
       "      <th>Age</th>\n",
       "      <th>Education</th>\n",
       "      <th>CompPrice</th>\n",
       "      <th>Price</th>\n",
       "    </tr>\n",
       "  </thead>\n",
       "  <tbody>\n",
       "    <tr>\n",
       "      <th>Population</th>\n",
       "      <td>1.000</td>\n",
       "      <td>-0.008</td>\n",
       "      <td>0.050</td>\n",
       "      <td>0.266</td>\n",
       "      <td>-0.043</td>\n",
       "      <td>-0.106</td>\n",
       "      <td>-0.095</td>\n",
       "      <td>-0.012</td>\n",
       "    </tr>\n",
       "    <tr>\n",
       "      <th>Income</th>\n",
       "      <td>-0.008</td>\n",
       "      <td>1.000</td>\n",
       "      <td>0.152</td>\n",
       "      <td>0.059</td>\n",
       "      <td>-0.005</td>\n",
       "      <td>-0.057</td>\n",
       "      <td>-0.081</td>\n",
       "      <td>-0.057</td>\n",
       "    </tr>\n",
       "    <tr>\n",
       "      <th>Sales</th>\n",
       "      <td>0.050</td>\n",
       "      <td>0.152</td>\n",
       "      <td>1.000</td>\n",
       "      <td>0.270</td>\n",
       "      <td>-0.232</td>\n",
       "      <td>-0.052</td>\n",
       "      <td>0.064</td>\n",
       "      <td>-0.445</td>\n",
       "    </tr>\n",
       "    <tr>\n",
       "      <th>Advertising</th>\n",
       "      <td>0.266</td>\n",
       "      <td>0.059</td>\n",
       "      <td>0.270</td>\n",
       "      <td>1.000</td>\n",
       "      <td>-0.005</td>\n",
       "      <td>-0.034</td>\n",
       "      <td>-0.024</td>\n",
       "      <td>0.045</td>\n",
       "    </tr>\n",
       "    <tr>\n",
       "      <th>Age</th>\n",
       "      <td>-0.043</td>\n",
       "      <td>-0.005</td>\n",
       "      <td>-0.232</td>\n",
       "      <td>-0.005</td>\n",
       "      <td>1.000</td>\n",
       "      <td>0.006</td>\n",
       "      <td>-0.100</td>\n",
       "      <td>-0.102</td>\n",
       "    </tr>\n",
       "    <tr>\n",
       "      <th>Education</th>\n",
       "      <td>-0.106</td>\n",
       "      <td>-0.057</td>\n",
       "      <td>-0.052</td>\n",
       "      <td>-0.034</td>\n",
       "      <td>0.006</td>\n",
       "      <td>1.000</td>\n",
       "      <td>0.025</td>\n",
       "      <td>0.012</td>\n",
       "    </tr>\n",
       "    <tr>\n",
       "      <th>CompPrice</th>\n",
       "      <td>-0.095</td>\n",
       "      <td>-0.081</td>\n",
       "      <td>0.064</td>\n",
       "      <td>-0.024</td>\n",
       "      <td>-0.100</td>\n",
       "      <td>0.025</td>\n",
       "      <td>1.000</td>\n",
       "      <td>0.585</td>\n",
       "    </tr>\n",
       "    <tr>\n",
       "      <th>Price</th>\n",
       "      <td>-0.012</td>\n",
       "      <td>-0.057</td>\n",
       "      <td>-0.445</td>\n",
       "      <td>0.045</td>\n",
       "      <td>-0.102</td>\n",
       "      <td>0.012</td>\n",
       "      <td>0.585</td>\n",
       "      <td>1.000</td>\n",
       "    </tr>\n",
       "  </tbody>\n",
       "</table>\n",
       "</div>"
      ],
      "text/plain": [
       "             Population  Income  Sales  Advertising    Age  Education  \\\n",
       "Population        1.000  -0.008  0.050        0.266 -0.043     -0.106   \n",
       "Income           -0.008   1.000  0.152        0.059 -0.005     -0.057   \n",
       "Sales             0.050   0.152  1.000        0.270 -0.232     -0.052   \n",
       "Advertising       0.266   0.059  0.270        1.000 -0.005     -0.034   \n",
       "Age              -0.043  -0.005 -0.232       -0.005  1.000      0.006   \n",
       "Education        -0.106  -0.057 -0.052       -0.034  0.006      1.000   \n",
       "CompPrice        -0.095  -0.081  0.064       -0.024 -0.100      0.025   \n",
       "Price            -0.012  -0.057 -0.445        0.045 -0.102      0.012   \n",
       "\n",
       "             CompPrice  Price  \n",
       "Population      -0.095 -0.012  \n",
       "Income          -0.081 -0.057  \n",
       "Sales            0.064 -0.445  \n",
       "Advertising     -0.024  0.045  \n",
       "Age             -0.100 -0.102  \n",
       "Education        0.025  0.012  \n",
       "CompPrice        1.000  0.585  \n",
       "Price            0.585  1.000  "
      ]
     },
     "execution_count": 10,
     "metadata": {},
     "output_type": "execute_result"
    }
   ],
   "source": [
    "df[['Population','Income','Sales','Advertising','Age','Education', 'CompPrice','Price']].corr().round(3)"
   ]
  },
  {
   "cell_type": "code",
   "execution_count": 11,
   "metadata": {},
   "outputs": [
    {
     "data": {
      "text/html": [
       "<div>\n",
       "<style scoped>\n",
       "    .dataframe tbody tr th:only-of-type {\n",
       "        vertical-align: middle;\n",
       "    }\n",
       "\n",
       "    .dataframe tbody tr th {\n",
       "        vertical-align: top;\n",
       "    }\n",
       "\n",
       "    .dataframe thead th {\n",
       "        text-align: right;\n",
       "    }\n",
       "</style>\n",
       "<table border=\"1\" class=\"dataframe\">\n",
       "  <thead>\n",
       "    <tr style=\"text-align: right;\">\n",
       "      <th></th>\n",
       "      <th>Population</th>\n",
       "      <th>Income</th>\n",
       "      <th>Sales</th>\n",
       "      <th>Advertising</th>\n",
       "      <th>Age</th>\n",
       "      <th>Education</th>\n",
       "      <th>CompPrice</th>\n",
       "      <th>Price</th>\n",
       "    </tr>\n",
       "  </thead>\n",
       "  <tbody>\n",
       "    <tr>\n",
       "      <th>Population</th>\n",
       "      <td>0</td>\n",
       "      <td>0.8752</td>\n",
       "      <td>0.314</td>\n",
       "      <td>0</td>\n",
       "      <td>0.3948</td>\n",
       "      <td>0.0334</td>\n",
       "      <td>0.0584</td>\n",
       "      <td>0.8087</td>\n",
       "    </tr>\n",
       "    <tr>\n",
       "      <th>Income</th>\n",
       "      <td>0.8752</td>\n",
       "      <td>0</td>\n",
       "      <td>0.0023</td>\n",
       "      <td>0.2391</td>\n",
       "      <td>0.9258</td>\n",
       "      <td>0.2566</td>\n",
       "      <td>0.1073</td>\n",
       "      <td>0.2579</td>\n",
       "    </tr>\n",
       "    <tr>\n",
       "      <th>Sales</th>\n",
       "      <td>0.314</td>\n",
       "      <td>0.0023</td>\n",
       "      <td>0</td>\n",
       "      <td>0</td>\n",
       "      <td>0</td>\n",
       "      <td>0.2999</td>\n",
       "      <td>0.2009</td>\n",
       "      <td>0</td>\n",
       "    </tr>\n",
       "    <tr>\n",
       "      <th>Advertising</th>\n",
       "      <td>0</td>\n",
       "      <td>0.2391</td>\n",
       "      <td>0</td>\n",
       "      <td>0</td>\n",
       "      <td>0.9276</td>\n",
       "      <td>0.5029</td>\n",
       "      <td>0.6294</td>\n",
       "      <td>0.3743</td>\n",
       "    </tr>\n",
       "    <tr>\n",
       "      <th>Age</th>\n",
       "      <td>0.3948</td>\n",
       "      <td>0.9258</td>\n",
       "      <td>0</td>\n",
       "      <td>0.9276</td>\n",
       "      <td>0</td>\n",
       "      <td>0.8971</td>\n",
       "      <td>0.0451</td>\n",
       "      <td>0.0411</td>\n",
       "    </tr>\n",
       "    <tr>\n",
       "      <th>Education</th>\n",
       "      <td>0.0334</td>\n",
       "      <td>0.2566</td>\n",
       "      <td>0.2999</td>\n",
       "      <td>0.5029</td>\n",
       "      <td>0.8971</td>\n",
       "      <td>0</td>\n",
       "      <td>0.6154</td>\n",
       "      <td>0.8148</td>\n",
       "    </tr>\n",
       "    <tr>\n",
       "      <th>CompPrice</th>\n",
       "      <td>0.0584</td>\n",
       "      <td>0.1073</td>\n",
       "      <td>0.2009</td>\n",
       "      <td>0.6294</td>\n",
       "      <td>0.0451</td>\n",
       "      <td>0.6154</td>\n",
       "      <td>0</td>\n",
       "      <td>0</td>\n",
       "    </tr>\n",
       "    <tr>\n",
       "      <th>Price</th>\n",
       "      <td>0.8087</td>\n",
       "      <td>0.2579</td>\n",
       "      <td>0</td>\n",
       "      <td>0.3743</td>\n",
       "      <td>0.0411</td>\n",
       "      <td>0.8148</td>\n",
       "      <td>0</td>\n",
       "      <td>0</td>\n",
       "    </tr>\n",
       "  </tbody>\n",
       "</table>\n",
       "</div>"
      ],
      "text/plain": [
       "            Population  Income   Sales Advertising     Age Education  \\\n",
       "Population           0  0.8752   0.314           0  0.3948    0.0334   \n",
       "Income          0.8752       0  0.0023      0.2391  0.9258    0.2566   \n",
       "Sales            0.314  0.0023       0           0       0    0.2999   \n",
       "Advertising          0  0.2391       0           0  0.9276    0.5029   \n",
       "Age             0.3948  0.9258       0      0.9276       0    0.8971   \n",
       "Education       0.0334  0.2566  0.2999      0.5029  0.8971         0   \n",
       "CompPrice       0.0584  0.1073  0.2009      0.6294  0.0451    0.6154   \n",
       "Price           0.8087  0.2579       0      0.3743  0.0411    0.8148   \n",
       "\n",
       "            CompPrice   Price  \n",
       "Population     0.0584  0.8087  \n",
       "Income         0.1073  0.2579  \n",
       "Sales          0.2009       0  \n",
       "Advertising    0.6294  0.3743  \n",
       "Age            0.0451  0.0411  \n",
       "Education      0.6154  0.8148  \n",
       "CompPrice           0       0  \n",
       "Price               0       0  "
      ]
     },
     "execution_count": 11,
     "metadata": {},
     "output_type": "execute_result"
    }
   ],
   "source": [
    "def calc_pvalues(df):\n",
    "    df = df.dropna()._get_numeric_data()\n",
    "    dfcol = pd.DataFrame(columns=df.columns)\n",
    "    pval = dfcol.transpose().join(dfcol, how='outer')\n",
    "    for r in df.columns:\n",
    "        for c in df.columns:\n",
    "            pval[r][c] = round(pearsonr(df[r], df[c])[1], 4)\n",
    "    return pval\n",
    "\n",
    "calc_pvalues(df[['Population','Income','Sales','Advertising','Age','Education', 'CompPrice','Price']])"
   ]
  },
  {
   "cell_type": "code",
   "execution_count": 12,
   "metadata": {},
   "outputs": [
    {
     "data": {
      "text/html": [
       "<style  type=\"text/css\" >\n",
       "    #T_16e00d36_5fce_11ea_879c_a78fd114e94brow0_col0 {\n",
       "            background-color:  #b40426;\n",
       "            color:  #f1f1f1;\n",
       "        }    #T_16e00d36_5fce_11ea_879c_a78fd114e94brow0_col1 {\n",
       "            background-color:  #4e68d8;\n",
       "            color:  #000000;\n",
       "        }    #T_16e00d36_5fce_11ea_879c_a78fd114e94brow0_col2 {\n",
       "            background-color:  #adc9fd;\n",
       "            color:  #000000;\n",
       "        }    #T_16e00d36_5fce_11ea_879c_a78fd114e94brow0_col3 {\n",
       "            background-color:  #9bbcff;\n",
       "            color:  #000000;\n",
       "        }    #T_16e00d36_5fce_11ea_879c_a78fd114e94brow0_col4 {\n",
       "            background-color:  #6b8df0;\n",
       "            color:  #000000;\n",
       "        }    #T_16e00d36_5fce_11ea_879c_a78fd114e94brow0_col5 {\n",
       "            background-color:  #3b4cc0;\n",
       "            color:  #f1f1f1;\n",
       "        }    #T_16e00d36_5fce_11ea_879c_a78fd114e94brow0_col6 {\n",
       "            background-color:  #3d50c3;\n",
       "            color:  #f1f1f1;\n",
       "        }    #T_16e00d36_5fce_11ea_879c_a78fd114e94brow0_col7 {\n",
       "            background-color:  #9ebeff;\n",
       "            color:  #000000;\n",
       "        }    #T_16e00d36_5fce_11ea_879c_a78fd114e94brow1_col0 {\n",
       "            background-color:  #5673e0;\n",
       "            color:  #000000;\n",
       "        }    #T_16e00d36_5fce_11ea_879c_a78fd114e94brow1_col1 {\n",
       "            background-color:  #b40426;\n",
       "            color:  #f1f1f1;\n",
       "        }    #T_16e00d36_5fce_11ea_879c_a78fd114e94brow1_col2 {\n",
       "            background-color:  #c3d5f4;\n",
       "            color:  #000000;\n",
       "        }    #T_16e00d36_5fce_11ea_879c_a78fd114e94brow1_col3 {\n",
       "            background-color:  #5572df;\n",
       "            color:  #000000;\n",
       "        }    #T_16e00d36_5fce_11ea_879c_a78fd114e94brow1_col4 {\n",
       "            background-color:  #7699f6;\n",
       "            color:  #000000;\n",
       "        }    #T_16e00d36_5fce_11ea_879c_a78fd114e94brow1_col5 {\n",
       "            background-color:  #485fd1;\n",
       "            color:  #f1f1f1;\n",
       "        }    #T_16e00d36_5fce_11ea_879c_a78fd114e94brow1_col6 {\n",
       "            background-color:  #3f53c6;\n",
       "            color:  #f1f1f1;\n",
       "        }    #T_16e00d36_5fce_11ea_879c_a78fd114e94brow1_col7 {\n",
       "            background-color:  #92b4fe;\n",
       "            color:  #000000;\n",
       "        }    #T_16e00d36_5fce_11ea_879c_a78fd114e94brow2_col0 {\n",
       "            background-color:  #6788ee;\n",
       "            color:  #000000;\n",
       "        }    #T_16e00d36_5fce_11ea_879c_a78fd114e94brow2_col1 {\n",
       "            background-color:  #80a3fa;\n",
       "            color:  #000000;\n",
       "        }    #T_16e00d36_5fce_11ea_879c_a78fd114e94brow2_col2 {\n",
       "            background-color:  #b40426;\n",
       "            color:  #f1f1f1;\n",
       "        }    #T_16e00d36_5fce_11ea_879c_a78fd114e94brow2_col3 {\n",
       "            background-color:  #9bbcff;\n",
       "            color:  #000000;\n",
       "        }    #T_16e00d36_5fce_11ea_879c_a78fd114e94brow2_col4 {\n",
       "            background-color:  #3b4cc0;\n",
       "            color:  #f1f1f1;\n",
       "        }    #T_16e00d36_5fce_11ea_879c_a78fd114e94brow2_col5 {\n",
       "            background-color:  #4a63d3;\n",
       "            color:  #f1f1f1;\n",
       "        }    #T_16e00d36_5fce_11ea_879c_a78fd114e94brow2_col6 {\n",
       "            background-color:  #688aef;\n",
       "            color:  #000000;\n",
       "        }    #T_16e00d36_5fce_11ea_879c_a78fd114e94brow2_col7 {\n",
       "            background-color:  #3b4cc0;\n",
       "            color:  #f1f1f1;\n",
       "        }    #T_16e00d36_5fce_11ea_879c_a78fd114e94brow3_col0 {\n",
       "            background-color:  #adc9fd;\n",
       "            color:  #000000;\n",
       "        }    #T_16e00d36_5fce_11ea_879c_a78fd114e94brow3_col1 {\n",
       "            background-color:  #6384eb;\n",
       "            color:  #000000;\n",
       "        }    #T_16e00d36_5fce_11ea_879c_a78fd114e94brow3_col2 {\n",
       "            background-color:  #dbdcde;\n",
       "            color:  #000000;\n",
       "        }    #T_16e00d36_5fce_11ea_879c_a78fd114e94brow3_col3 {\n",
       "            background-color:  #b40426;\n",
       "            color:  #f1f1f1;\n",
       "        }    #T_16e00d36_5fce_11ea_879c_a78fd114e94brow3_col4 {\n",
       "            background-color:  #7699f6;\n",
       "            color:  #000000;\n",
       "        }    #T_16e00d36_5fce_11ea_879c_a78fd114e94brow3_col5 {\n",
       "            background-color:  #506bda;\n",
       "            color:  #000000;\n",
       "        }    #T_16e00d36_5fce_11ea_879c_a78fd114e94brow3_col6 {\n",
       "            background-color:  #506bda;\n",
       "            color:  #000000;\n",
       "        }    #T_16e00d36_5fce_11ea_879c_a78fd114e94brow3_col7 {\n",
       "            background-color:  #aac7fd;\n",
       "            color:  #000000;\n",
       "        }    #T_16e00d36_5fce_11ea_879c_a78fd114e94brow4_col0 {\n",
       "            background-color:  #4e68d8;\n",
       "            color:  #000000;\n",
       "        }    #T_16e00d36_5fce_11ea_879c_a78fd114e94brow4_col1 {\n",
       "            background-color:  #506bda;\n",
       "            color:  #000000;\n",
       "        }    #T_16e00d36_5fce_11ea_879c_a78fd114e94brow4_col2 {\n",
       "            background-color:  #688aef;\n",
       "            color:  #000000;\n",
       "        }    #T_16e00d36_5fce_11ea_879c_a78fd114e94brow4_col3 {\n",
       "            background-color:  #4358cb;\n",
       "            color:  #f1f1f1;\n",
       "        }    #T_16e00d36_5fce_11ea_879c_a78fd114e94brow4_col4 {\n",
       "            background-color:  #b40426;\n",
       "            color:  #f1f1f1;\n",
       "        }    #T_16e00d36_5fce_11ea_879c_a78fd114e94brow4_col5 {\n",
       "            background-color:  #5b7ae5;\n",
       "            color:  #000000;\n",
       "        }    #T_16e00d36_5fce_11ea_879c_a78fd114e94brow4_col6 {\n",
       "            background-color:  #3b4cc0;\n",
       "            color:  #f1f1f1;\n",
       "        }    #T_16e00d36_5fce_11ea_879c_a78fd114e94brow4_col7 {\n",
       "            background-color:  #88abfd;\n",
       "            color:  #000000;\n",
       "        }    #T_16e00d36_5fce_11ea_879c_a78fd114e94brow5_col0 {\n",
       "            background-color:  #3b4cc0;\n",
       "            color:  #f1f1f1;\n",
       "        }    #T_16e00d36_5fce_11ea_879c_a78fd114e94brow5_col1 {\n",
       "            background-color:  #3f53c6;\n",
       "            color:  #f1f1f1;\n",
       "        }    #T_16e00d36_5fce_11ea_879c_a78fd114e94brow5_col2 {\n",
       "            background-color:  #94b6ff;\n",
       "            color:  #000000;\n",
       "        }    #T_16e00d36_5fce_11ea_879c_a78fd114e94brow5_col3 {\n",
       "            background-color:  #3b4cc0;\n",
       "            color:  #f1f1f1;\n",
       "        }    #T_16e00d36_5fce_11ea_879c_a78fd114e94brow5_col4 {\n",
       "            background-color:  #799cf8;\n",
       "            color:  #000000;\n",
       "        }    #T_16e00d36_5fce_11ea_879c_a78fd114e94brow5_col5 {\n",
       "            background-color:  #b40426;\n",
       "            color:  #f1f1f1;\n",
       "        }    #T_16e00d36_5fce_11ea_879c_a78fd114e94brow5_col6 {\n",
       "            background-color:  #5f7fe8;\n",
       "            color:  #000000;\n",
       "        }    #T_16e00d36_5fce_11ea_879c_a78fd114e94brow5_col7 {\n",
       "            background-color:  #a3c2fe;\n",
       "            color:  #000000;\n",
       "        }    #T_16e00d36_5fce_11ea_879c_a78fd114e94brow6_col0 {\n",
       "            background-color:  #3f53c6;\n",
       "            color:  #f1f1f1;\n",
       "        }    #T_16e00d36_5fce_11ea_879c_a78fd114e94brow6_col1 {\n",
       "            background-color:  #3b4cc0;\n",
       "            color:  #f1f1f1;\n",
       "        }    #T_16e00d36_5fce_11ea_879c_a78fd114e94brow6_col2 {\n",
       "            background-color:  #aec9fc;\n",
       "            color:  #000000;\n",
       "        }    #T_16e00d36_5fce_11ea_879c_a78fd114e94brow6_col3 {\n",
       "            background-color:  #3d50c3;\n",
       "            color:  #f1f1f1;\n",
       "        }    #T_16e00d36_5fce_11ea_879c_a78fd114e94brow6_col4 {\n",
       "            background-color:  #5b7ae5;\n",
       "            color:  #000000;\n",
       "        }    #T_16e00d36_5fce_11ea_879c_a78fd114e94brow6_col5 {\n",
       "            background-color:  #6282ea;\n",
       "            color:  #000000;\n",
       "        }    #T_16e00d36_5fce_11ea_879c_a78fd114e94brow6_col6 {\n",
       "            background-color:  #b40426;\n",
       "            color:  #f1f1f1;\n",
       "        }    #T_16e00d36_5fce_11ea_879c_a78fd114e94brow6_col7 {\n",
       "            background-color:  #f7a98b;\n",
       "            color:  #000000;\n",
       "        }    #T_16e00d36_5fce_11ea_879c_a78fd114e94brow7_col0 {\n",
       "            background-color:  #5673e0;\n",
       "            color:  #000000;\n",
       "        }    #T_16e00d36_5fce_11ea_879c_a78fd114e94brow7_col1 {\n",
       "            background-color:  #3f53c6;\n",
       "            color:  #f1f1f1;\n",
       "        }    #T_16e00d36_5fce_11ea_879c_a78fd114e94brow7_col2 {\n",
       "            background-color:  #3b4cc0;\n",
       "            color:  #f1f1f1;\n",
       "        }    #T_16e00d36_5fce_11ea_879c_a78fd114e94brow7_col3 {\n",
       "            background-color:  #4f69d9;\n",
       "            color:  #000000;\n",
       "        }    #T_16e00d36_5fce_11ea_879c_a78fd114e94brow7_col4 {\n",
       "            background-color:  #5b7ae5;\n",
       "            color:  #000000;\n",
       "        }    #T_16e00d36_5fce_11ea_879c_a78fd114e94brow7_col5 {\n",
       "            background-color:  #5b7ae5;\n",
       "            color:  #000000;\n",
       "        }    #T_16e00d36_5fce_11ea_879c_a78fd114e94brow7_col6 {\n",
       "            background-color:  #f4c6af;\n",
       "            color:  #000000;\n",
       "        }    #T_16e00d36_5fce_11ea_879c_a78fd114e94brow7_col7 {\n",
       "            background-color:  #b40426;\n",
       "            color:  #f1f1f1;\n",
       "        }</style><table id=\"T_16e00d36_5fce_11ea_879c_a78fd114e94b\" ><thead>    <tr>        <th class=\"blank level0\" ></th>        <th class=\"col_heading level0 col0\" >Population</th>        <th class=\"col_heading level0 col1\" >Income</th>        <th class=\"col_heading level0 col2\" >Sales</th>        <th class=\"col_heading level0 col3\" >Advertising</th>        <th class=\"col_heading level0 col4\" >Age</th>        <th class=\"col_heading level0 col5\" >Education</th>        <th class=\"col_heading level0 col6\" >CompPrice</th>        <th class=\"col_heading level0 col7\" >Price</th>    </tr></thead><tbody>\n",
       "                <tr>\n",
       "                        <th id=\"T_16e00d36_5fce_11ea_879c_a78fd114e94blevel0_row0\" class=\"row_heading level0 row0\" >Population</th>\n",
       "                        <td id=\"T_16e00d36_5fce_11ea_879c_a78fd114e94brow0_col0\" class=\"data row0 col0\" >1.00</td>\n",
       "                        <td id=\"T_16e00d36_5fce_11ea_879c_a78fd114e94brow0_col1\" class=\"data row0 col1\" >-0.01</td>\n",
       "                        <td id=\"T_16e00d36_5fce_11ea_879c_a78fd114e94brow0_col2\" class=\"data row0 col2\" >0.05</td>\n",
       "                        <td id=\"T_16e00d36_5fce_11ea_879c_a78fd114e94brow0_col3\" class=\"data row0 col3\" >0.27</td>\n",
       "                        <td id=\"T_16e00d36_5fce_11ea_879c_a78fd114e94brow0_col4\" class=\"data row0 col4\" >-0.04</td>\n",
       "                        <td id=\"T_16e00d36_5fce_11ea_879c_a78fd114e94brow0_col5\" class=\"data row0 col5\" >-0.11</td>\n",
       "                        <td id=\"T_16e00d36_5fce_11ea_879c_a78fd114e94brow0_col6\" class=\"data row0 col6\" >-0.09</td>\n",
       "                        <td id=\"T_16e00d36_5fce_11ea_879c_a78fd114e94brow0_col7\" class=\"data row0 col7\" >-0.01</td>\n",
       "            </tr>\n",
       "            <tr>\n",
       "                        <th id=\"T_16e00d36_5fce_11ea_879c_a78fd114e94blevel0_row1\" class=\"row_heading level0 row1\" >Income</th>\n",
       "                        <td id=\"T_16e00d36_5fce_11ea_879c_a78fd114e94brow1_col0\" class=\"data row1 col0\" >-0.01</td>\n",
       "                        <td id=\"T_16e00d36_5fce_11ea_879c_a78fd114e94brow1_col1\" class=\"data row1 col1\" >1.00</td>\n",
       "                        <td id=\"T_16e00d36_5fce_11ea_879c_a78fd114e94brow1_col2\" class=\"data row1 col2\" >0.15</td>\n",
       "                        <td id=\"T_16e00d36_5fce_11ea_879c_a78fd114e94brow1_col3\" class=\"data row1 col3\" >0.06</td>\n",
       "                        <td id=\"T_16e00d36_5fce_11ea_879c_a78fd114e94brow1_col4\" class=\"data row1 col4\" >-0.00</td>\n",
       "                        <td id=\"T_16e00d36_5fce_11ea_879c_a78fd114e94brow1_col5\" class=\"data row1 col5\" >-0.06</td>\n",
       "                        <td id=\"T_16e00d36_5fce_11ea_879c_a78fd114e94brow1_col6\" class=\"data row1 col6\" >-0.08</td>\n",
       "                        <td id=\"T_16e00d36_5fce_11ea_879c_a78fd114e94brow1_col7\" class=\"data row1 col7\" >-0.06</td>\n",
       "            </tr>\n",
       "            <tr>\n",
       "                        <th id=\"T_16e00d36_5fce_11ea_879c_a78fd114e94blevel0_row2\" class=\"row_heading level0 row2\" >Sales</th>\n",
       "                        <td id=\"T_16e00d36_5fce_11ea_879c_a78fd114e94brow2_col0\" class=\"data row2 col0\" >0.05</td>\n",
       "                        <td id=\"T_16e00d36_5fce_11ea_879c_a78fd114e94brow2_col1\" class=\"data row2 col1\" >0.15</td>\n",
       "                        <td id=\"T_16e00d36_5fce_11ea_879c_a78fd114e94brow2_col2\" class=\"data row2 col2\" >1.00</td>\n",
       "                        <td id=\"T_16e00d36_5fce_11ea_879c_a78fd114e94brow2_col3\" class=\"data row2 col3\" >0.27</td>\n",
       "                        <td id=\"T_16e00d36_5fce_11ea_879c_a78fd114e94brow2_col4\" class=\"data row2 col4\" >-0.23</td>\n",
       "                        <td id=\"T_16e00d36_5fce_11ea_879c_a78fd114e94brow2_col5\" class=\"data row2 col5\" >-0.05</td>\n",
       "                        <td id=\"T_16e00d36_5fce_11ea_879c_a78fd114e94brow2_col6\" class=\"data row2 col6\" >0.06</td>\n",
       "                        <td id=\"T_16e00d36_5fce_11ea_879c_a78fd114e94brow2_col7\" class=\"data row2 col7\" >-0.44</td>\n",
       "            </tr>\n",
       "            <tr>\n",
       "                        <th id=\"T_16e00d36_5fce_11ea_879c_a78fd114e94blevel0_row3\" class=\"row_heading level0 row3\" >Advertising</th>\n",
       "                        <td id=\"T_16e00d36_5fce_11ea_879c_a78fd114e94brow3_col0\" class=\"data row3 col0\" >0.27</td>\n",
       "                        <td id=\"T_16e00d36_5fce_11ea_879c_a78fd114e94brow3_col1\" class=\"data row3 col1\" >0.06</td>\n",
       "                        <td id=\"T_16e00d36_5fce_11ea_879c_a78fd114e94brow3_col2\" class=\"data row3 col2\" >0.27</td>\n",
       "                        <td id=\"T_16e00d36_5fce_11ea_879c_a78fd114e94brow3_col3\" class=\"data row3 col3\" >1.00</td>\n",
       "                        <td id=\"T_16e00d36_5fce_11ea_879c_a78fd114e94brow3_col4\" class=\"data row3 col4\" >-0.00</td>\n",
       "                        <td id=\"T_16e00d36_5fce_11ea_879c_a78fd114e94brow3_col5\" class=\"data row3 col5\" >-0.03</td>\n",
       "                        <td id=\"T_16e00d36_5fce_11ea_879c_a78fd114e94brow3_col6\" class=\"data row3 col6\" >-0.02</td>\n",
       "                        <td id=\"T_16e00d36_5fce_11ea_879c_a78fd114e94brow3_col7\" class=\"data row3 col7\" >0.04</td>\n",
       "            </tr>\n",
       "            <tr>\n",
       "                        <th id=\"T_16e00d36_5fce_11ea_879c_a78fd114e94blevel0_row4\" class=\"row_heading level0 row4\" >Age</th>\n",
       "                        <td id=\"T_16e00d36_5fce_11ea_879c_a78fd114e94brow4_col0\" class=\"data row4 col0\" >-0.04</td>\n",
       "                        <td id=\"T_16e00d36_5fce_11ea_879c_a78fd114e94brow4_col1\" class=\"data row4 col1\" >-0.00</td>\n",
       "                        <td id=\"T_16e00d36_5fce_11ea_879c_a78fd114e94brow4_col2\" class=\"data row4 col2\" >-0.23</td>\n",
       "                        <td id=\"T_16e00d36_5fce_11ea_879c_a78fd114e94brow4_col3\" class=\"data row4 col3\" >-0.00</td>\n",
       "                        <td id=\"T_16e00d36_5fce_11ea_879c_a78fd114e94brow4_col4\" class=\"data row4 col4\" >1.00</td>\n",
       "                        <td id=\"T_16e00d36_5fce_11ea_879c_a78fd114e94brow4_col5\" class=\"data row4 col5\" >0.01</td>\n",
       "                        <td id=\"T_16e00d36_5fce_11ea_879c_a78fd114e94brow4_col6\" class=\"data row4 col6\" >-0.10</td>\n",
       "                        <td id=\"T_16e00d36_5fce_11ea_879c_a78fd114e94brow4_col7\" class=\"data row4 col7\" >-0.10</td>\n",
       "            </tr>\n",
       "            <tr>\n",
       "                        <th id=\"T_16e00d36_5fce_11ea_879c_a78fd114e94blevel0_row5\" class=\"row_heading level0 row5\" >Education</th>\n",
       "                        <td id=\"T_16e00d36_5fce_11ea_879c_a78fd114e94brow5_col0\" class=\"data row5 col0\" >-0.11</td>\n",
       "                        <td id=\"T_16e00d36_5fce_11ea_879c_a78fd114e94brow5_col1\" class=\"data row5 col1\" >-0.06</td>\n",
       "                        <td id=\"T_16e00d36_5fce_11ea_879c_a78fd114e94brow5_col2\" class=\"data row5 col2\" >-0.05</td>\n",
       "                        <td id=\"T_16e00d36_5fce_11ea_879c_a78fd114e94brow5_col3\" class=\"data row5 col3\" >-0.03</td>\n",
       "                        <td id=\"T_16e00d36_5fce_11ea_879c_a78fd114e94brow5_col4\" class=\"data row5 col4\" >0.01</td>\n",
       "                        <td id=\"T_16e00d36_5fce_11ea_879c_a78fd114e94brow5_col5\" class=\"data row5 col5\" >1.00</td>\n",
       "                        <td id=\"T_16e00d36_5fce_11ea_879c_a78fd114e94brow5_col6\" class=\"data row5 col6\" >0.03</td>\n",
       "                        <td id=\"T_16e00d36_5fce_11ea_879c_a78fd114e94brow5_col7\" class=\"data row5 col7\" >0.01</td>\n",
       "            </tr>\n",
       "            <tr>\n",
       "                        <th id=\"T_16e00d36_5fce_11ea_879c_a78fd114e94blevel0_row6\" class=\"row_heading level0 row6\" >CompPrice</th>\n",
       "                        <td id=\"T_16e00d36_5fce_11ea_879c_a78fd114e94brow6_col0\" class=\"data row6 col0\" >-0.09</td>\n",
       "                        <td id=\"T_16e00d36_5fce_11ea_879c_a78fd114e94brow6_col1\" class=\"data row6 col1\" >-0.08</td>\n",
       "                        <td id=\"T_16e00d36_5fce_11ea_879c_a78fd114e94brow6_col2\" class=\"data row6 col2\" >0.06</td>\n",
       "                        <td id=\"T_16e00d36_5fce_11ea_879c_a78fd114e94brow6_col3\" class=\"data row6 col3\" >-0.02</td>\n",
       "                        <td id=\"T_16e00d36_5fce_11ea_879c_a78fd114e94brow6_col4\" class=\"data row6 col4\" >-0.10</td>\n",
       "                        <td id=\"T_16e00d36_5fce_11ea_879c_a78fd114e94brow6_col5\" class=\"data row6 col5\" >0.03</td>\n",
       "                        <td id=\"T_16e00d36_5fce_11ea_879c_a78fd114e94brow6_col6\" class=\"data row6 col6\" >1.00</td>\n",
       "                        <td id=\"T_16e00d36_5fce_11ea_879c_a78fd114e94brow6_col7\" class=\"data row6 col7\" >0.58</td>\n",
       "            </tr>\n",
       "            <tr>\n",
       "                        <th id=\"T_16e00d36_5fce_11ea_879c_a78fd114e94blevel0_row7\" class=\"row_heading level0 row7\" >Price</th>\n",
       "                        <td id=\"T_16e00d36_5fce_11ea_879c_a78fd114e94brow7_col0\" class=\"data row7 col0\" >-0.01</td>\n",
       "                        <td id=\"T_16e00d36_5fce_11ea_879c_a78fd114e94brow7_col1\" class=\"data row7 col1\" >-0.06</td>\n",
       "                        <td id=\"T_16e00d36_5fce_11ea_879c_a78fd114e94brow7_col2\" class=\"data row7 col2\" >-0.44</td>\n",
       "                        <td id=\"T_16e00d36_5fce_11ea_879c_a78fd114e94brow7_col3\" class=\"data row7 col3\" >0.04</td>\n",
       "                        <td id=\"T_16e00d36_5fce_11ea_879c_a78fd114e94brow7_col4\" class=\"data row7 col4\" >-0.10</td>\n",
       "                        <td id=\"T_16e00d36_5fce_11ea_879c_a78fd114e94brow7_col5\" class=\"data row7 col5\" >0.01</td>\n",
       "                        <td id=\"T_16e00d36_5fce_11ea_879c_a78fd114e94brow7_col6\" class=\"data row7 col6\" >0.58</td>\n",
       "                        <td id=\"T_16e00d36_5fce_11ea_879c_a78fd114e94brow7_col7\" class=\"data row7 col7\" >1.00</td>\n",
       "            </tr>\n",
       "    </tbody></table>"
      ],
      "text/plain": [
       "<pandas.io.formats.style.Styler at 0x18cb0e42a30>"
      ]
     },
     "execution_count": 12,
     "metadata": {},
     "output_type": "execute_result"
    }
   ],
   "source": [
    "corr = df[['Population','Income','Sales','Advertising','Age','Education', 'CompPrice','Price']].corr().round(2)\n",
    "corr.style.background_gradient(cmap='coolwarm').set_precision(2)"
   ]
  },
  {
   "cell_type": "code",
   "execution_count": 13,
   "metadata": {},
   "outputs": [
    {
     "data": {
      "text/plain": [
       "[Text(0, 0.5, 'Price'), Text(0.5, 0, 'Sales')]"
      ]
     },
     "execution_count": 13,
     "metadata": {},
     "output_type": "execute_result"
    },
    {
     "data": {
      "image/png": "[encoded data removed]",
      "text/plain": [
       "<Figure size 432x288 with 1 Axes>"
      ]
     },
     "metadata": {
      "needs_background": "light"
     },
     "output_type": "display_data"
    }
   ],
   "source": [
    "ax = sns.regplot(x = \"Sales\", y = \"Price\", data=df, marker='o', color='black', scatter_kws={'s':5})\n",
    "ax.set(xlabel='Sales', ylabel = 'Price')"
   ]
  },
  {
   "cell_type": "markdown",
   "metadata": {},
   "source": [
    "<h2>Interpretation</h2>\n",
    "<h3>Correlation and Scatterplot</h3>\n",
    "\n",
    "The following predictors have a **positive** correlation and all of their p-values are < 0.05 which supports that they are significantly correlated, thus a relation between them is likely.  \n",
    "Advertising and Population  \n",
    "Advertising and Sales    \n",
    "Price and ComPrice   \n",
    "\n",
    "The following predictors have a **negative** correlation and all of their p-values are < 0.05 which supports that they are significantly correlated, thus a relation between them is likely.  \n",
    "Sales and Price  \n",
    "Sales and Age  \n",
    "Education and Population\n",
    "\n",
    "For positive correlation it means that if the competitors price goes up then the price goes up as well. For negative correlation, as seen also on the scatterplot, it means that as the price goes up, then the sales will go down, thus less carseats will be sold."
   ]
  },
  {
   "cell_type": "markdown",
   "metadata": {},
   "source": [
    "<h1>1.2.2 Classification Trees</h1>"
   ]
  },
  {
   "cell_type": "code",
   "execution_count": 9,
   "metadata": {},
   "outputs": [
    {
     "name": "stdout",
     "output_type": "stream",
     "text": [
      "12\n",
      "1. 'Sales' 2. 'CompPrice' 3. 'Income' 4. 'Advertising' 5. 'Population' 6. 'Price' 7. 'ShelveLoc' 8. 'Age' 9. 'Education' 10. 'Urban' 11. 'US' 12. 'High' "
     ]
    }
   ],
   "source": [
    "df['High'] = df.Sales.map(lambda x: 1 if x > 8 else 0)\n",
    "df.ShelveLoc = pd.factorize(df.ShelveLoc)[0]\n",
    "df.Urban = df.Urban.map({'No':0, 'Yes':1})\n",
    "df.US = df.US.map({'No':0, 'Yes':1})\n",
    "\n",
    "r, c = df.shape\n",
    "print(c)\n",
    "for a, b in enumerate(df, 1):\n",
    "    list = \"\".join('{}. \\'{}\\''.format(a, b))\n",
    "    print (list, end=\" \")"
   ]
  },
  {
   "cell_type": "code",
   "execution_count": 10,
   "metadata": {},
   "outputs": [],
   "source": [
    "X = df.drop(['Sales', 'High'], axis = 1)\n",
    "y = df.High"
   ]
  },
  {
   "cell_type": "code",
   "execution_count": 107,
   "metadata": {},
   "outputs": [
    {
     "data": {
      "text/plain": [
       "DecisionTreeClassifier(ccp_alpha=0.0, class_weight=None, criterion='gini',\n",
       "                       max_depth=None, max_features=None, max_leaf_nodes=None,\n",
       "                       min_impurity_decrease=0.0, min_impurity_split=None,\n",
       "                       min_samples_leaf=1, min_samples_split=2,\n",
       "                       min_weight_fraction_leaf=0.0, presort='deprecated',\n",
       "                       random_state=None, splitter='best')"
      ]
     },
     "execution_count": 107,
     "metadata": {},
     "output_type": "execute_result"
    }
   ],
   "source": [
    "X_train, X_test, y_train, y_test = train_test_split(X, y, train_size = 0.5, random_state = 0)\n",
    "model = DecisionTreeClassifier()\n",
    "model.fit(X_train, y_train)"
   ]
  },
  {
   "cell_type": "code",
   "execution_count": 124,
   "metadata": {},
   "outputs": [],
   "source": [
    "export_graphviz(model,\n",
    "                out_file=\"carseat_tree_five.dot\",\n",
    "                feature_names=X_train.columns,\n",
    "                rounded=True,\n",
    "                filled=True)"
   ]
  },
  {
   "cell_type": "code",
   "execution_count": 56,
   "metadata": {},
   "outputs": [
    {
     "data": {
      "text/html": [
       "<img src=\"https://imgur.com/zIw8801.jpg\"/>"
      ],
      "text/plain": [
       "<IPython.core.display.Image object>"
      ]
     },
     "execution_count": 56,
     "metadata": {},
     "output_type": "execute_result"
    }
   ],
   "source": [
    "Image(url= \"https://imgur.com/zIw8801.jpg\")"
   ]
  },
  {
   "cell_type": "markdown",
   "metadata": {},
   "source": [
    "<h2>Interpretation</h2>\n",
    "\n",
    "Root node:  \n",
    "Price <= 94.5 means that all nodes where the feature Price is lower than 94.5 go to the left child and samples where the feature is higher than 94.5 go to the right child.  \n",
    "gini = 0.484 is the gini impurity of the node, which describes how much the classes are mixed up.  \n",
    "samples = 200 means that the node has 200 samples, and since it is the root it also means that the tree was trained on the 200 samples.  \n",
    "value = \\[118, 82\\] are class probabilities, where here 118 samples belong to class A and 82 to class B.  \n",
    "\n",
    "Leaf nodes:  \n",
    "These nodes are not further split, so there is no need for a Price <= something field.    \n",
    "gini = 0.349/0.434 are the remaining impurities in the child nodes. They are lower than in the parent node, which means the split improved separability between the classes, but there is still some uncertainty left.  \n",
    "samples = 40/160 sum to 200. 40 samples went to the left child and 160 samples to the right child.  \n",
    "values = \\[9, 31\\]/\\[109, 51\\] are the class probabilities in the children. Most samples in the left child belong to class B (31 vs 9) and most samples in the right child belong to class A (109 v 51).\n",
    "\n",
    "Worth mentioning is also that since Price is the root node, it seems that Price is the most important indicator of High sales."
   ]
  },
  {
   "cell_type": "code",
   "execution_count": 62,
   "metadata": {},
   "outputs": [
    {
     "name": "stdout",
     "output_type": "stream",
     "text": [
      "              precision    recall  f1-score   support\n",
      "\n",
      "           0       1.00      1.00      1.00       118\n",
      "           1       1.00      1.00      1.00        82\n",
      "\n",
      "    accuracy                           1.00       200\n",
      "   macro avg       1.00      1.00      1.00       200\n",
      "weighted avg       1.00      1.00      1.00       200\n",
      "\n"
     ]
    }
   ],
   "source": [
    "# Training error\n",
    "print(classification_report(y_train, model.predict(X_train)))"
   ]
  },
  {
   "cell_type": "code",
   "execution_count": 63,
   "metadata": {},
   "outputs": [
    {
     "name": "stdout",
     "output_type": "stream",
     "text": [
      "              precision    recall  f1-score   support\n",
      "\n",
      "           0       0.72      0.83      0.77       118\n",
      "           1       0.69      0.54      0.60        82\n",
      "\n",
      "    accuracy                           0.71       200\n",
      "   macro avg       0.70      0.68      0.69       200\n",
      "weighted avg       0.71      0.71      0.70       200\n",
      "\n"
     ]
    }
   ],
   "source": [
    "# Testing error\n",
    "print(classification_report(y_test, model.predict(X_test)))"
   ]
  },
  {
   "cell_type": "code",
   "execution_count": 64,
   "metadata": {},
   "outputs": [
    {
     "name": "stdout",
     "output_type": "stream",
     "text": [
      "     No  Yes\n",
      "No   98   38\n",
      "Yes  20   44\n",
      "\n",
      " Model Score: 1.0\n",
      "\n",
      " Accuracy Score: 0.71\n"
     ]
    }
   ],
   "source": [
    "pred = model.predict(X_test)\n",
    "print(pd.DataFrame(confusion_matrix(y_test, pred).T, index = ['No', 'Yes'], columns = ['No', 'Yes']))\n",
    "print('\\n Model Score:',model.score(X_train, y_train))\n",
    "print('\\n Accuracy Score:',accuracy_score(y_test, pred))"
   ]
  },
  {
   "cell_type": "markdown",
   "metadata": {},
   "source": [
    "<h2>Interpretation</h2>\n",
    "\n",
    "The true positive rate (recall) is 100% in the training data and 71\\% in the testing data.  \n",
    "The f1-score is a measure of the test's accuracy. It considers precision and recall to compute the score, so it is the harmonic mean of the precision and recall.  \n",
    "We are interested in the testing data, and so the confusion matrix shows that we are making correct predictions for around 71\\% (98+44)/200 = 0.71  of the test data set."
   ]
  },
  {
   "cell_type": "markdown",
   "metadata": {},
   "source": [
    "<h1>1.2.3 Pruning, in this case: </h1>\n",
    "<h2>max_depth</h2>"
   ]
  },
  {
   "cell_type": "code",
   "execution_count": 96,
   "metadata": {},
   "outputs": [
    {
     "name": "stdout",
     "output_type": "stream",
     "text": [
      "Depth: 1 Accuracy: 0.675\n",
      "Depth: 2 Accuracy: 0.690\n",
      "Depth: 3 Accuracy: 0.730\n",
      "Depth: 4 Accuracy: 0.765\n",
      "Depth: 5 Accuracy: 0.795\n",
      "Depth: 6 Accuracy: 0.805\n",
      "Depth: 7 Accuracy: 0.745\n",
      "Depth: 8 Accuracy: 0.752\n",
      "Depth: 9 Accuracy: 0.735\n"
     ]
    }
   ],
   "source": [
    "#print(cross_val_score(DecisionTreeClassifier(), X, y, scoring='accuracy', cv=10).mean())\n",
    "#print(cross_val_score(DecisionTreeClassifier(max_features='auto'), X, y, scoring='accuracy', cv=10).mean())\n",
    "\n",
    "crossvalidation = KFold(n_splits=X.shape[0], shuffle=True, random_state=1)\n",
    "\n",
    "for depth in range(1,10):\n",
    "    tree_classifier = tree.DecisionTreeClassifier(max_depth=depth, random_state=0)\n",
    "    if tree_classifier.fit(X,y).tree_.max_depth < depth:\n",
    "        break\n",
    "    score = np.mean(cross_val_score(tree_classifier, X, y, scoring='accuracy', cv=crossvalidation))\n",
    "    print(\"Depth: %i Accuracy: %.3f\" % (depth,score))"
   ]
  },
  {
   "cell_type": "markdown",
   "metadata": {},
   "source": [
    "<h2>Interpretation</h2>\n",
    "\n",
    "The \"pruning\" with python is a bit different than with R and so a loop was created to find the best depth for the tree.  \n",
    "Since X contains predictors and y holds cassifications a cross-validation was defined to check the results using decision trees. The loop iterates over the different depths and prints the accuracy score at each depth. After the 6th depth the performance starts to decrease due to overfitting. The best solution in this case is a tree with 6 splits. In the following we will see how this tree performs."
   ]
  },
  {
   "cell_type": "code",
   "execution_count": 99,
   "metadata": {},
   "outputs": [
    {
     "data": {
      "text/plain": [
       "DecisionTreeClassifier(ccp_alpha=0.0, class_weight=None, criterion='gini',\n",
       "                       max_depth=6, max_features=None, max_leaf_nodes=None,\n",
       "                       min_impurity_decrease=0.0, min_impurity_split=None,\n",
       "                       min_samples_leaf=1, min_samples_split=2,\n",
       "                       min_weight_fraction_leaf=0.0, presort='deprecated',\n",
       "                       random_state=None, splitter='best')"
      ]
     },
     "execution_count": 99,
     "metadata": {},
     "output_type": "execute_result"
    }
   ],
   "source": [
    "model2 = DecisionTreeClassifier(max_depth = 6)\n",
    "model2.fit(X_train, y_train)"
   ]
  },
  {
   "cell_type": "code",
   "execution_count": 100,
   "metadata": {},
   "outputs": [
    {
     "name": "stdout",
     "output_type": "stream",
     "text": [
      "      No  Yes\n",
      "No   100   32\n",
      "Yes   18   50\n",
      "\n",
      " Model Score: 0.955\n",
      "\n",
      " Accuracy Score: 0.75\n"
     ]
    }
   ],
   "source": [
    "pred = model2.predict(X_test)\n",
    "print(pd.DataFrame(confusion_matrix(y_test, pred).T, index = ['No', 'Yes'], columns = ['No', 'Yes']))\n",
    "print('\\n Model Score:',model2.score(X_train, y_train))\n",
    "print('\\n Accuracy Score:',accuracy_score(y_test, pred))"
   ]
  },
  {
   "cell_type": "code",
   "execution_count": 101,
   "metadata": {},
   "outputs": [],
   "source": [
    "export_graphviz(model2,\n",
    "                out_file=\"carseat_tree_prune.dot\",\n",
    "                feature_names=X_train.columns,\n",
    "                rounded=True,\n",
    "                filled=True)"
   ]
  },
  {
   "cell_type": "code",
   "execution_count": 152,
   "metadata": {},
   "outputs": [
    {
     "data": {
      "text/html": [
       "<img src=\"https://imgur.com/uaX2XiI.jpg\"/>"
      ],
      "text/plain": [
       "<IPython.core.display.Image object>"
      ]
     },
     "execution_count": 152,
     "metadata": {},
     "output_type": "execute_result"
    }
   ],
   "source": [
    "Image(url= \"https://imgur.com/uaX2XiI.jpg\")"
   ]
  },
  {
   "cell_type": "code",
   "execution_count": 89,
   "metadata": {},
   "outputs": [
    {
     "name": "stdout",
     "output_type": "stream",
     "text": [
      "     No  Yes\n",
      "No   93   37\n",
      "Yes  25   45\n",
      "\n",
      " Model Score: 1.0\n",
      "\n",
      " Accuracy Score: 0.69\n"
     ]
    }
   ],
   "source": [
    "model3 = DecisionTreeClassifier(max_depth = 11)\n",
    "model3.fit(X_train, y_train)\n",
    "pred = model3.predict(X_test)\n",
    "print(pd.DataFrame(confusion_matrix(y_test, pred).T, index = ['No', 'Yes'], columns = ['No', 'Yes']))\n",
    "print('\\n Model Score:',model3.score(X_train, y_train))\n",
    "print('\\n Accuracy Score:',accuracy_score(y_test, pred))"
   ]
  },
  {
   "cell_type": "code",
   "execution_count": 90,
   "metadata": {},
   "outputs": [],
   "source": [
    "export_graphviz(model3,\n",
    "                out_file=\"carseat_tree_11.dot\",\n",
    "                feature_names=X_train.columns,\n",
    "                rounded=True,\n",
    "                filled=True)"
   ]
  },
  {
   "cell_type": "code",
   "execution_count": 102,
   "metadata": {},
   "outputs": [
    {
     "data": {
      "text/html": [
       "<img src=\"https://imgur.com/IvBk1Nm.jpg\"/>"
      ],
      "text/plain": [
       "<IPython.core.display.Image object>"
      ]
     },
     "execution_count": 102,
     "metadata": {},
     "output_type": "execute_result"
    }
   ],
   "source": [
    "Image(url= \"https://imgur.com/IvBk1Nm.jpg\")"
   ]
  },
  {
   "cell_type": "markdown",
   "metadata": {},
   "source": [
    "<h2>Interpretation</h2>\n",
    "\n",
    "After specifying the max_depth = 6, according to the crossvalidation results, the confusion matrix shows that we are making correct predictions for around 75\\% (100+50)/200 = 0.75 of the test data set. - Thus 75\\% of the test observations are correctly classified.  \n",
    "In the second experiment the max_depth is increased to 11 (assuming the accuracy tests for each depth weren't printed before, where these results are visible too) it is visible that the higher max_depth lowers the classification accuracy to 69\\%. - Thus the larger pruned tree has lower classification accuracy.    \n",
    "Thus, after specifying the max_depth to 6 and pruning the tree this way the accuracy has improved best."
   ]
  },
  {
   "cell_type": "markdown",
   "metadata": {},
   "source": [
    "<h1>Pruning, in this case: </h1>\n",
    "<h2>Post pruning</h2>"
   ]
  },
  {
   "cell_type": "code",
   "execution_count": 68,
   "metadata": {},
   "outputs": [
    {
     "name": "stdout",
     "output_type": "stream",
     "text": [
      "38\n"
     ]
    },
    {
     "data": {
      "text/plain": [
       "49"
      ]
     },
     "execution_count": 68,
     "metadata": {},
     "output_type": "execute_result"
    }
   ],
   "source": [
    "def prune_index(inner_tree, index, threshold):\n",
    "    if inner_tree.value[index].min() < threshold:\n",
    "        # unlinking children by turning a node into a leaf\n",
    "        inner_tree.children_left[index] = TREE_LEAF\n",
    "        inner_tree.children_right[index] = TREE_LEAF\n",
    "    # if there are children, visit them\n",
    "    if inner_tree.children_left[index] != TREE_LEAF:\n",
    "        prune_index(inner_tree, inner_tree.children_left[index], threshold)\n",
    "        prune_index(inner_tree, inner_tree.children_right[index], threshold)\n",
    "\n",
    "print(sum(model.tree_.children_left < 0))\n",
    "# begin pruning from root\n",
    "prune_index(model.tree_, 0, 5)\n",
    "sum(model.tree_.children_left < 0)"
   ]
  },
  {
   "cell_type": "code",
   "execution_count": 69,
   "metadata": {},
   "outputs": [],
   "source": [
    "export_graphviz(model,\n",
    "                out_file=\"carseat_tree_prune2.dot\",\n",
    "                feature_names=X_train.columns,\n",
    "                rounded=True,\n",
    "                filled=True)"
   ]
  },
  {
   "cell_type": "code",
   "execution_count": 70,
   "metadata": {},
   "outputs": [
    {
     "name": "stdout",
     "output_type": "stream",
     "text": [
      "     No  Yes\n",
      "No   95   34\n",
      "Yes  23   48\n",
      "\n",
      " Model Score: 0.855\n",
      "\n",
      " Accuracy Score: 0.715\n"
     ]
    }
   ],
   "source": [
    "pred = model.predict(X_test)\n",
    "print(pd.DataFrame(confusion_matrix(y_test, pred).T, index = ['No', 'Yes'], columns = ['No', 'Yes']))\n",
    "print('\\n Model Score:',model.score(X_train, y_train))\n",
    "print('\\n Accuracy Score:',accuracy_score(y_test, pred))"
   ]
  },
  {
   "cell_type": "code",
   "execution_count": 131,
   "metadata": {},
   "outputs": [
    {
     "data": {
      "text/html": [
       "<img src=\"https://imgur.com/w3GBMuw.jpg\"/>"
      ],
      "text/plain": [
       "<IPython.core.display.Image object>"
      ]
     },
     "execution_count": 131,
     "metadata": {},
     "output_type": "execute_result"
    }
   ],
   "source": [
    "Image(url= \"https://imgur.com/w3GBMuw.jpg\")"
   ]
  },
  {
   "cell_type": "markdown",
   "metadata": {},
   "source": [
    "<h1>Interpretation</h1>\n",
    "\n",
    "An attempt at post-pruning the tree: This is accomplished by traversing the tree and remove all children of the nodes with minimum class count less that 5 in this case.  \n",
    "The printed numbers 38 and 49 mean that the code has created 11 new leaf nodes (by practically removing links to their ancestors).  \n",
    "The confusion matrix shows that we are making correct predictions for around 71.5% (95+48)/200 = 0.715 of the test data set.  \n",
    "Thus, after pruning the accuracy has slightly improved compared to the model without specified max_depth. However it performed worse than the model which was \"pruned\" by specifying the max_depth = 6.  \n",
    "Out of all classification trees, the one with the specified max_depth of 6 has the highest accuracy score (75\\%), thus providing correct predictions for around 75\\%"
   ]
  },
  {
   "cell_type": "markdown",
   "metadata": {},
   "source": [
    "<h1>1.2.4 Regression Trees</h1>"
   ]
  },
  {
   "cell_type": "code",
   "execution_count": 5,
   "metadata": {},
   "outputs": [],
   "source": [
    "df_bstn = pd.read_csv('ISLR/data/Boston.csv',index_col=0, parse_dates=True)"
   ]
  },
  {
   "cell_type": "code",
   "execution_count": 6,
   "metadata": {},
   "outputs": [],
   "source": [
    "X = df_bstn.drop('medv', axis = 1)\n",
    "y = df_bstn.medv"
   ]
  },
  {
   "cell_type": "code",
   "execution_count": 7,
   "metadata": {},
   "outputs": [
    {
     "data": {
      "text/plain": [
       "DecisionTreeRegressor(ccp_alpha=0.0, criterion='mse', max_depth=3,\n",
       "                      max_features=None, max_leaf_nodes=None,\n",
       "                      min_impurity_decrease=0.0, min_impurity_split=None,\n",
       "                      min_samples_leaf=1, min_samples_split=2,\n",
       "                      min_weight_fraction_leaf=0.0, presort='deprecated',\n",
       "                      random_state=None, splitter='best')"
      ]
     },
     "execution_count": 7,
     "metadata": {},
     "output_type": "execute_result"
    }
   ],
   "source": [
    "X_train, X_test, y_train, y_test = train_test_split(X, y, train_size = 0.8, random_state = 0)\n",
    "model_reg = DecisionTreeRegressor(max_depth=3)\n",
    "model_reg.fit(X_train, y_train)"
   ]
  },
  {
   "cell_type": "code",
   "execution_count": 68,
   "metadata": {},
   "outputs": [],
   "source": [
    "export_graphviz(model_reg,\n",
    "            out_file=\"boston_tree_five.dot\",\n",
    "            feature_names=X_train.columns,\n",
    "            rounded=True,\n",
    "            filled=True)"
   ]
  },
  {
   "cell_type": "code",
   "execution_count": 64,
   "metadata": {},
   "outputs": [
    {
     "data": {
      "text/html": [
       "<img src=\"https://imgur.com/2YK1JO5.jpg\"/>"
      ],
      "text/plain": [
       "<IPython.core.display.Image object>"
      ]
     },
     "execution_count": 64,
     "metadata": {},
     "output_type": "execute_result"
    }
   ],
   "source": [
    "Image(url= \"https://imgur.com/2YK1JO5.jpg\")"
   ]
  },
  {
   "cell_type": "markdown",
   "metadata": {},
   "source": [
    "<h1>Interpretation</h1>\n",
    "\n",
    "As seen already multiple times in the previous assignments, lstat measures the percentage of people with a low socioeconomic status. The tree's root indicates that lower values of lstat correspond to higher prices in housing. We can see that the set was split into lstat <= 8.13 where lower lstat goes to the left and higher lstat to the right. "
   ]
  },
  {
   "cell_type": "code",
   "execution_count": 71,
   "metadata": {},
   "outputs": [
    {
     "name": "stdout",
     "output_type": "stream",
     "text": [
      "Depth: 1 MSE: 50.939\n",
      "Depth: 2 MSE: 28.783\n",
      "Depth: 3 MSE: 23.242\n",
      "Depth: 4 MSE: 21.359\n",
      "Depth: 5 MSE: 20.955\n",
      "Depth: 6 MSE: 16.620\n",
      "Depth: 7 MSE: 18.315\n",
      "Depth: 8 MSE: 18.605\n",
      "Depth: 9 MSE: 19.220\n"
     ]
    }
   ],
   "source": [
    "crossvalidation = KFold(n_splits=X.shape[0], shuffle=True, random_state=1)\n",
    "\n",
    "for depth in range(1,10):\n",
    "    tree_reg = tree.DecisionTreeRegressor(max_depth=depth)\n",
    "    if tree_reg.fit(X,y).tree_.max_depth < depth:\n",
    "        break\n",
    "    score = np.mean(cross_val_score(tree_reg, X, y, scoring='neg_mean_squared_error', cv=crossvalidation))\n",
    "    print(\"Depth: %i MSE: %.3f\" % (depth,abs(score)))"
   ]
  },
  {
   "cell_type": "code",
   "execution_count": 74,
   "metadata": {},
   "outputs": [
    {
     "data": {
      "text/plain": [
       "DecisionTreeRegressor(ccp_alpha=0.0, criterion='mse', max_depth=2,\n",
       "                      max_features=None, max_leaf_nodes=None,\n",
       "                      min_impurity_decrease=0.0, min_impurity_split=None,\n",
       "                      min_samples_leaf=1, min_samples_split=2,\n",
       "                      min_weight_fraction_leaf=0.0, presort='deprecated',\n",
       "                      random_state=None, splitter='best')"
      ]
     },
     "execution_count": 74,
     "metadata": {},
     "output_type": "execute_result"
    }
   ],
   "source": [
    "X_train, X_test, y_train, y_test = train_test_split(X, y, train_size = 0.8, random_state = 0)\n",
    "model_reg = DecisionTreeRegressor(max_depth=2)\n",
    "model_reg.fit(X_train, y_train)"
   ]
  },
  {
   "cell_type": "code",
   "execution_count": 76,
   "metadata": {},
   "outputs": [],
   "source": [
    "export_graphviz(model_reg,\n",
    "            out_file=\"bstn_tree.dot\",\n",
    "            feature_names=X_train.columns,\n",
    "            rounded=True,\n",
    "            filled=True)"
   ]
  },
  {
   "cell_type": "code",
   "execution_count": 77,
   "metadata": {},
   "outputs": [
    {
     "data": {
      "text/html": [
       "<img src=\"https://imgur.com/bHUgDxp.jpg\"/>"
      ],
      "text/plain": [
       "<IPython.core.display.Image object>"
      ]
     },
     "execution_count": 77,
     "metadata": {},
     "output_type": "execute_result"
    }
   ],
   "source": [
    "Image(url= \"https://imgur.com/bHUgDxp.jpg\")"
   ]
  },
  {
   "cell_type": "markdown",
   "metadata": {},
   "source": [
    "<h1>Interpretation</h1>\n",
    "\n",
    "Since I didn't manage to plot the size against the error, I decided to run again the loop to to look at the output at each depth up until 9. This time the depth 2 was choosen since it gives the most similar result as the teacher has in his R example.  \n",
    "Tree: The rrot node is lstat with a threshold of 8.13 with 404 samples. We split the samples into 139 to the left and 265 to the right children node. the left child node uses the variable rm (number of rooms) with a threshold of 7.437 and right node uuses lstat with a threshold of 15.0."
   ]
  },
  {
   "cell_type": "code",
   "execution_count": 75,
   "metadata": {},
   "outputs": [
    {
     "name": "stdout",
     "output_type": "stream",
     "text": [
      "Mean squared error: 35.41\n",
      "Mean absolute error: 3.91\n",
      "Residual sum of squares: 35.41\n",
      "R2: 0.57\n"
     ]
    }
   ],
   "source": [
    "prediction = model_reg.predict(X_test)\n",
    "\n",
    "mse = mean_squared_error(y_test, prediction)\n",
    "mae = metrics.mean_absolute_error(y_test, prediction)\n",
    "rss = np.mean((prediction - y_test) ** 2)\n",
    "r2 = r2_score(y_test, prediction)\n",
    "print('Mean squared error: %.2f' % mse)\n",
    "print('Mean absolute error: %.2f' % mae)\n",
    "print('Residual sum of squares: %.2f' % rss)\n",
    "print('R2: %.2f' % r2)"
   ]
  },
  {
   "cell_type": "code",
   "execution_count": 78,
   "metadata": {},
   "outputs": [
    {
     "data": {
      "text/plain": [
       "35.406215828790266"
      ]
     },
     "execution_count": 78,
     "metadata": {},
     "output_type": "execute_result"
    },
    {
     "data": {
      "image/png": "[encoded data removed]",
      "text/plain": [
       "<Figure size 432x288 with 1 Axes>"
      ]
     },
     "metadata": {
      "needs_background": "light"
     },
     "output_type": "display_data"
    }
   ],
   "source": [
    "plt.scatter(prediction, y_test, label = 'medv')\n",
    "\n",
    "plt.plot([0, 1], [0, 1], '--k', transform = plt.gca().transAxes)\n",
    "\n",
    "plt.xlabel('y_hat')\n",
    "plt.ylabel('boston.test')\n",
    "\n",
    "mean_squared_error(y_test, prediction)"
   ]
  },
  {
   "cell_type": "markdown",
   "metadata": {},
   "source": [
    "<h1>Interpretation</h1>\n",
    "\n",
    "The test set mean squared error associated with the regression tree here is 35.4. We can now calculate the square root of the mean squared error, which results in around 5.37. This suggests that this model results in test predictions that are within around 5,370 $ of the true median home value for suburbs."
   ]
  },
  {
   "cell_type": "markdown",
   "metadata": {},
   "source": [
    "<h1>1.2.5 Regression Bagging (Trees) and Random Forests</h1>"
   ]
  },
  {
   "cell_type": "code",
   "execution_count": 211,
   "metadata": {},
   "outputs": [
    {
     "data": {
      "text/plain": [
       "RandomForestRegressor(bootstrap=True, ccp_alpha=0.0, criterion='mse',\n",
       "                      max_depth=None, max_features=13, max_leaf_nodes=None,\n",
       "                      max_samples=None, min_impurity_decrease=0.0,\n",
       "                      min_impurity_split=None, min_samples_leaf=1,\n",
       "                      min_samples_split=2, min_weight_fraction_leaf=0.0,\n",
       "                      n_estimators=100, n_jobs=None, oob_score=False,\n",
       "                      random_state=1, verbose=0, warm_start=False)"
      ]
     },
     "execution_count": 211,
     "metadata": {},
     "output_type": "execute_result"
    }
   ],
   "source": [
    "# using all features = bagging\n",
    "random_forest1 = RandomForestRegressor(max_features = 13, random_state = 1)\n",
    "random_forest1.fit(X_train, y_train)"
   ]
  },
  {
   "cell_type": "code",
   "execution_count": 213,
   "metadata": {},
   "outputs": [
    {
     "data": {
      "text/plain": [
       "16.267629007905143"
      ]
     },
     "execution_count": 213,
     "metadata": {},
     "output_type": "execute_result"
    },
    {
     "data": {
      "image/png": "[encoded data removed]",
      "text/plain": [
       "<Figure size 432x288 with 1 Axes>"
      ]
     },
     "metadata": {
      "needs_background": "light"
     },
     "output_type": "display_data"
    }
   ],
   "source": [
    "prediction = random_forest1.predict(X_test)\n",
    "\n",
    "plt.scatter(prediction, y_test, label = 'medv')\n",
    "plt.plot([0, 1], [0, 1], '--k', \n",
    "         transform = plt.gca().transAxes)\n",
    "\n",
    "plt.xlabel('yhat.bag')\n",
    "plt.ylabel('boston.test')\n",
    "\n",
    "mean_squared_error(y_test, prediction)"
   ]
  },
  {
   "cell_type": "markdown",
   "metadata": {},
   "source": [
    "<h2>Change number of trees</h2>"
   ]
  },
  {
   "cell_type": "code",
   "execution_count": 214,
   "metadata": {},
   "outputs": [
    {
     "data": {
      "text/plain": [
       "17.376042687747038"
      ]
     },
     "execution_count": 214,
     "metadata": {},
     "output_type": "execute_result"
    }
   ],
   "source": [
    "random_forest2 = RandomForestRegressor(max_features = 13, n_estimators = 25, random_state = 1)\n",
    "\n",
    "random_forest2.fit(X_train, y_train)\n",
    "\n",
    "prediction = random_forest2.predict(X_test)\n",
    "mean_squared_error(y_test, prediction)"
   ]
  },
  {
   "cell_type": "markdown",
   "metadata": {},
   "source": [
    "<h2>Interpretation</h2>\n",
    "\n",
    "Adding 25 decision trees results in a higher mean squared error, thus makes it a less suitable model."
   ]
  },
  {
   "cell_type": "code",
   "execution_count": 215,
   "metadata": {},
   "outputs": [
    {
     "data": {
      "text/plain": [
       "15.115262782608696"
      ]
     },
     "execution_count": 215,
     "metadata": {},
     "output_type": "execute_result"
    }
   ],
   "source": [
    "random_forest3 = RandomForestRegressor(max_features = 6, random_state = 1)\n",
    "\n",
    "random_forest3.fit(X_train, y_train)\n",
    "\n",
    "prediction = random_forest3.predict(X_test)\n",
    "mean_squared_error(y_test, prediction)"
   ]
  },
  {
   "cell_type": "code",
   "execution_count": 216,
   "metadata": {},
   "outputs": [
    {
     "data": {
      "text/plain": [
       "15.115262782608696"
      ]
     },
     "execution_count": 216,
     "metadata": {},
     "output_type": "execute_result"
    },
    {
     "data": {
      "image/png": "[encoded data removed]",
      "text/plain": [
       "<Figure size 432x288 with 1 Axes>"
      ]
     },
     "metadata": {
      "needs_background": "light"
     },
     "output_type": "display_data"
    }
   ],
   "source": [
    "prediction = random_forest3.predict(X_test)\n",
    "\n",
    "plt.scatter(prediction, y_test, label = 'medv')\n",
    "\n",
    "plt.plot([0, 1], [0, 1], '--k', \n",
    "         transform = plt.gca().transAxes)\n",
    "\n",
    "plt.xlabel('yhat.bag')\n",
    "plt.ylabel('boston.test')\n",
    "\n",
    "mean_squared_error(y_test, prediction)"
   ]
  },
  {
   "cell_type": "markdown",
   "metadata": {},
   "source": [
    "<h2>Interpretation</h2>\n",
    "\n",
    "Growing a random forest with not all 13 features, but limiting it to 6 shows an improvement over the bagging here, since the MSE is lower. "
   ]
  },
  {
   "cell_type": "code",
   "execution_count": 155,
   "metadata": {},
   "outputs": [
    {
     "data": {
      "image/png": "[encoded data removed]",
      "text/plain": [
       "<Figure size 432x288 with 1 Axes>"
      ]
     },
     "metadata": {
      "needs_background": "light"
     },
     "output_type": "display_data"
    }
   ],
   "source": [
    "Importance = pd.DataFrame({'Importance':random_forest2.feature_importances_*100}, \n",
    "                          index = X.columns)\n",
    "\n",
    "Importance.sort_values(by = 'Importance', \n",
    "                       axis = 0, \n",
    "                       ascending = True).plot(kind = 'barh', \n",
    "                                              color = 'r', )\n",
    "\n",
    "plt.xlabel('Variable Importance')\n",
    "plt.gca().legend_ = None"
   ]
  },
  {
   "cell_type": "markdown",
   "metadata": {},
   "source": [
    "<h2>Interpretation</h2>\n",
    "\n",
    "By looking at the graph it is visible that lstat and rm are most important out of all features."
   ]
  },
  {
   "cell_type": "markdown",
   "metadata": {},
   "source": [
    "<h1>1.2.6 Regression Boosting (Trees)</h1>"
   ]
  },
  {
   "cell_type": "code",
   "execution_count": 164,
   "metadata": {},
   "outputs": [
    {
     "data": {
      "text/plain": [
       "GradientBoostingRegressor(alpha=0.9, ccp_alpha=0.0, criterion='friedman_mse',\n",
       "                          init=None, learning_rate=0.01, loss='ls', max_depth=4,\n",
       "                          max_features=None, max_leaf_nodes=None,\n",
       "                          min_impurity_decrease=0.0, min_impurity_split=None,\n",
       "                          min_samples_leaf=1, min_samples_split=2,\n",
       "                          min_weight_fraction_leaf=0.0, n_estimators=500,\n",
       "                          n_iter_no_change=None, presort='deprecated',\n",
       "                          random_state=1, subsample=1.0, tol=0.0001,\n",
       "                          validation_fraction=0.1, verbose=0, warm_start=False)"
      ]
     },
     "execution_count": 164,
     "metadata": {},
     "output_type": "execute_result"
    }
   ],
   "source": [
    "regr_boost = GradientBoostingRegressor(n_estimators = 500, \n",
    "                                       learning_rate = 0.01, \n",
    "                                       max_depth = 4, \n",
    "                                       random_state = 1)\n",
    "\n",
    "regr_boost.fit(X_train, y_train)"
   ]
  },
  {
   "cell_type": "code",
   "execution_count": 165,
   "metadata": {},
   "outputs": [
    {
     "data": {
      "image/png": "[encoded data removed]",
      "text/plain": [
       "<Figure size 432x288 with 1 Axes>"
      ]
     },
     "metadata": {
      "needs_background": "light"
     },
     "output_type": "display_data"
    }
   ],
   "source": [
    "feature_importance = regr_boost.feature_importances_*100\n",
    "\n",
    "rel_imp = pd.Series(feature_importance, \n",
    "                    index = X.columns).sort_values(inplace = False)\n",
    "\n",
    "rel_imp.T.plot(kind = 'barh', color = 'r', )\n",
    "plt.xlabel('Variable Importance')\n",
    "plt.gca().legend_ = None"
   ]
  },
  {
   "cell_type": "markdown",
   "metadata": {},
   "source": [
    "<h2>Interpretation</h2>\n",
    "\n",
    "By limiting n_estimators = 500 which mean that we want 500 trees, and the option max_depth = 4 limits the depth of each tree. The results show again that the wealth of the community (lstat) and the number of rooms are two most important features. However, the rm is a bit lower compared to the previous graph."
   ]
  },
  {
   "cell_type": "code",
   "execution_count": 166,
   "metadata": {},
   "outputs": [
    {
     "data": {
      "text/plain": [
       "17.447987096423084"
      ]
     },
     "execution_count": 166,
     "metadata": {},
     "output_type": "execute_result"
    }
   ],
   "source": [
    "mean_squared_error(y_test, regr_boost.predict(X_test))"
   ]
  },
  {
   "cell_type": "code",
   "execution_count": 168,
   "metadata": {},
   "outputs": [
    {
     "data": {
      "text/plain": [
       "17.298842519253792"
      ]
     },
     "execution_count": 168,
     "metadata": {},
     "output_type": "execute_result"
    }
   ],
   "source": [
    "regr_boost2 = GradientBoostingRegressor(n_estimators = 500, \n",
    "                                        learning_rate = 0.2, \n",
    "                                        max_depth = 4, \n",
    "                                        random_state = 1)\n",
    "regr_boost2.fit(X_train, y_train)\n",
    "mean_squared_error(y_test, regr_boost2.predict(X_test))"
   ]
  },
  {
   "cell_type": "code",
   "execution_count": 169,
   "metadata": {},
   "outputs": [
    {
     "data": {
      "image/png": "[encoded data removed]",
      "text/plain": [
       "<Figure size 432x288 with 1 Axes>"
      ]
     },
     "metadata": {
      "needs_background": "light"
     },
     "output_type": "display_data"
    }
   ],
   "source": [
    "feature_importance = regr_boost2.feature_importances_*100\n",
    "\n",
    "rel_imp = pd.Series(feature_importance, \n",
    "                    index = X.columns).sort_values(inplace = False)\n",
    "\n",
    "rel_imp.T.plot(kind = 'barh', color = 'r', )\n",
    "plt.xlabel('Variable Importance')\n",
    "plt.gca().legend_ = None"
   ]
  },
  {
   "cell_type": "code",
   "execution_count": 170,
   "metadata": {},
   "outputs": [
    {
     "data": {
      "text/plain": [
       "17.298842519253792"
      ]
     },
     "execution_count": 170,
     "metadata": {},
     "output_type": "execute_result"
    },
    {
     "data": {
      "image/png": "[encoded data removed]",
      "text/plain": [
       "<Figure size 432x288 with 1 Axes>"
      ]
     },
     "metadata": {
      "needs_background": "light"
     },
     "output_type": "display_data"
    }
   ],
   "source": [
    "pred = regr_boost2.predict(X_test)\n",
    "\n",
    "plt.scatter(pred, y_test, label = 'medv')\n",
    "\n",
    "plt.plot([0, 1], [0, 1], '--k', \n",
    "         transform = plt.gca().transAxes)\n",
    "\n",
    "plt.xlabel('pred')\n",
    "plt.ylabel('y_test')\n",
    "\n",
    "mean_squared_error(y_test, pred)"
   ]
  },
  {
   "cell_type": "markdown",
   "metadata": {},
   "source": [
    "<h2>Interpretation</h2>\n",
    "\n",
    "The parameters are almost the same, only this time the learning_rate = 0.2. For the first model with the learning_rate 0.001 the MSE is 17.45 and for the second model the MSE is 17.3, thus the error rate is the sqrt(17.3) which is 4.16, and this model performs again slightly better than the previous one.  \n",
    "Out of all regression trees performed, the growing a random forest with not all 13 features, but limiting it to 6 shows the lowest MSE with 15.12. Boosting in this case shows higher MSE than random forests."
   ]
  },
  {
   "cell_type": "code",
   "execution_count": null,
   "metadata": {},
   "outputs": [],
   "source": []
  }
 ],
 "metadata": {
  "kernelspec": {
   "display_name": "Python 3",
   "language": "python",
   "name": "python3"
  },
  "language_info": {
   "codemirror_mode": {
    "name": "ipython",
    "version": 3
   },
   "file_extension": ".py",
   "mimetype": "text/x-python",
   "name": "python",
   "nbconvert_exporter": "python",
   "pygments_lexer": "ipython3",
   "version": "3.7.5"
  }
 },
 "nbformat": 4,
 "nbformat_minor": 4
}
